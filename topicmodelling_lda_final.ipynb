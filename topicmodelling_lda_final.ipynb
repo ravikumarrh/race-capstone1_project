{
 "cells": [
  {
   "cell_type": "code",
   "execution_count": 1,
   "metadata": {},
   "outputs": [],
   "source": [
    "from IPython.core.interactiveshell import InteractiveShell\n",
    "InteractiveShell.ast_node_interactivity='all'"
   ]
  },
  {
   "cell_type": "code",
   "execution_count": 2,
   "metadata": {},
   "outputs": [],
   "source": [
    "#pip install -U sentence-transformers"
   ]
  },
  {
   "cell_type": "code",
   "execution_count": 3,
   "metadata": {},
   "outputs": [],
   "source": [
    "#from sentence_transformers import SentenceTransformer\n",
    "#from sklearn.cluster import KMeans"
   ]
  },
  {
   "cell_type": "code",
   "execution_count": 2,
   "metadata": {},
   "outputs": [],
   "source": [
    "import re\n",
    "import nltk\n",
    "from nltk.corpus import stopwords\n",
    "from nltk.stem.snowball import SnowballStemmer\n",
    "from nltk.stem import PorterStemmer\n",
    "from wordcloud import WordCloud\n",
    "import matplotlib.pyplot as plt\n",
    "%matplotlib inline\n",
    "import json\n",
    "from collections import Counter\n",
    "from bs4 import BeautifulSoup\n",
    "from nltk.tokenize import word_tokenize \n",
    "import operator\n",
    "import warnings\n",
    "warnings.filterwarnings('ignore')\n",
    "\n",
    "from tqdm import tqdm\n",
    "from nltk.stem.porter import PorterStemmer\n",
    "from wordcloud import WordCloud\n"
   ]
  },
  {
   "cell_type": "code",
   "execution_count": 3,
   "metadata": {},
   "outputs": [],
   "source": [
    "#!pip install pyLDAvis"
   ]
  },
  {
   "cell_type": "code",
   "execution_count": 6,
   "metadata": {},
   "outputs": [],
   "source": [
    "\n",
    "from pprint import pprint\n",
    "\n",
    "# Gensim\n",
    "import gensim\n",
    "import gensim.corpora as corpora\n",
    "from gensim.utils import simple_preprocess\n",
    "from gensim.models import CoherenceModel\n",
    "\n",
    "# spacy for lemmatization\n",
    "import spacy\n",
    "\n",
    "# Plotting tools\n",
    "#import pyldavis\n",
    "#import pyLDAvis.gensim_models # don't skip this\n",
    "import matplotlib.pyplot as plt\n",
    "%matplotlib inline\n",
    "\n",
    "import seaborn as sns \n",
    "\n",
    "# Enable logging for gensim - optional\n",
    "import logging\n",
    "logging.basicConfig(format='%(asctime)s : %(levelname)s : %(message)s', level=logging.ERROR)\n",
    "\n",
    "import warnings\n",
    "warnings.filterwarnings(\"ignore\",category=DeprecationWarning)"
   ]
  },
  {
   "cell_type": "code",
   "execution_count": 4,
   "metadata": {},
   "outputs": [],
   "source": [
    "import numpy as np \n",
    "import pandas as pd "
   ]
  },
  {
   "cell_type": "code",
   "execution_count": 8,
   "metadata": {},
   "outputs": [],
   "source": [
    "#embedder = SentenceTransformer('distilbert-base-nli-stsb-mean-tokens')\n"
   ]
  },
  {
   "cell_type": "code",
   "execution_count": 9,
   "metadata": {},
   "outputs": [],
   "source": [
    "#df=pd.read_csv('benefitsdata.csv')\n",
    "#df.head()"
   ]
  },
  {
   "cell_type": "code",
   "execution_count": 5,
   "metadata": {},
   "outputs": [
    {
     "data": {
      "text/html": [
       "<div>\n",
       "<style scoped>\n",
       "    .dataframe tbody tr th:only-of-type {\n",
       "        vertical-align: middle;\n",
       "    }\n",
       "\n",
       "    .dataframe tbody tr th {\n",
       "        vertical-align: top;\n",
       "    }\n",
       "\n",
       "    .dataframe thead th {\n",
       "        text-align: right;\n",
       "    }\n",
       "</style>\n",
       "<table border=\"1\" class=\"dataframe\">\n",
       "  <thead>\n",
       "    <tr style=\"text-align: right;\">\n",
       "      <th></th>\n",
       "      <th>CardVariant</th>\n",
       "      <th>Cashback</th>\n",
       "    </tr>\n",
       "  </thead>\n",
       "  <tbody>\n",
       "    <tr>\n",
       "      <th>0</th>\n",
       "      <td>Flipkart Axis Bank Credit Card</td>\n",
       "      <td>5% cashback on Flipkart &amp; Myntra. 4% cashback ...</td>\n",
       "    </tr>\n",
       "    <tr>\n",
       "      <th>1</th>\n",
       "      <td>Flipkart Axis Bank Credit Card</td>\n",
       "      <td>NaN</td>\n",
       "    </tr>\n",
       "    <tr>\n",
       "      <th>2</th>\n",
       "      <td>Flipkart Axis Bank Credit Card</td>\n",
       "      <td>NaN</td>\n",
       "    </tr>\n",
       "    <tr>\n",
       "      <th>3</th>\n",
       "      <td>Axis Bank Privilege Credit Card</td>\n",
       "      <td>NaN</td>\n",
       "    </tr>\n",
       "    <tr>\n",
       "      <th>4</th>\n",
       "      <td>Axis Bank Privilege Credit Card</td>\n",
       "      <td>NaN</td>\n",
       "    </tr>\n",
       "  </tbody>\n",
       "</table>\n",
       "</div>"
      ],
      "text/plain": [
       "                       CardVariant  \\\n",
       "0   Flipkart Axis Bank Credit Card   \n",
       "1   Flipkart Axis Bank Credit Card   \n",
       "2   Flipkart Axis Bank Credit Card   \n",
       "3  Axis Bank Privilege Credit Card   \n",
       "4  Axis Bank Privilege Credit Card   \n",
       "\n",
       "                                            Cashback  \n",
       "0  5% cashback on Flipkart & Myntra. 4% cashback ...  \n",
       "1                                                NaN  \n",
       "2                                                NaN  \n",
       "3                                                NaN  \n",
       "4                                                NaN  "
      ]
     },
     "execution_count": 5,
     "metadata": {},
     "output_type": "execute_result"
    }
   ],
   "source": [
    "df=pd.read_csv('cashbackdata.csv')\n",
    "df.head()"
   ]
  },
  {
   "cell_type": "code",
   "execution_count": 69,
   "metadata": {},
   "outputs": [],
   "source": [
    "#df =df[0:100]"
   ]
  },
  {
   "cell_type": "code",
   "execution_count": 6,
   "metadata": {},
   "outputs": [
    {
     "name": "stdout",
     "output_type": "stream",
     "text": [
      "<class 'pandas.core.frame.DataFrame'>\n",
      "RangeIndex: 677 entries, 0 to 676\n",
      "Data columns (total 2 columns):\n",
      " #   Column       Non-Null Count  Dtype \n",
      "---  ------       --------------  ----- \n",
      " 0   CardVariant  675 non-null    object\n",
      " 1   Cashback     138 non-null    object\n",
      "dtypes: object(2)\n",
      "memory usage: 10.7+ KB\n"
     ]
    },
    {
     "data": {
      "text/html": [
       "<div>\n",
       "<style scoped>\n",
       "    .dataframe tbody tr th:only-of-type {\n",
       "        vertical-align: middle;\n",
       "    }\n",
       "\n",
       "    .dataframe tbody tr th {\n",
       "        vertical-align: top;\n",
       "    }\n",
       "\n",
       "    .dataframe thead th {\n",
       "        text-align: right;\n",
       "    }\n",
       "</style>\n",
       "<table border=\"1\" class=\"dataframe\">\n",
       "  <thead>\n",
       "    <tr style=\"text-align: right;\">\n",
       "      <th></th>\n",
       "      <th>CardVariant</th>\n",
       "      <th>Cashback</th>\n",
       "    </tr>\n",
       "  </thead>\n",
       "  <tbody>\n",
       "    <tr>\n",
       "      <th>count</th>\n",
       "      <td>675</td>\n",
       "      <td>138</td>\n",
       "    </tr>\n",
       "    <tr>\n",
       "      <th>unique</th>\n",
       "      <td>188</td>\n",
       "      <td>122</td>\n",
       "    </tr>\n",
       "    <tr>\n",
       "      <th>top</th>\n",
       "      <td>Lifestyle Home Centre SBI Card PRIME</td>\n",
       "      <td>Enjoy 10 Reward Points on every 100 Rs. spent ...</td>\n",
       "    </tr>\n",
       "    <tr>\n",
       "      <th>freq</th>\n",
       "      <td>13</td>\n",
       "      <td>3</td>\n",
       "    </tr>\n",
       "  </tbody>\n",
       "</table>\n",
       "</div>"
      ],
      "text/plain": [
       "                                 CardVariant  \\\n",
       "count                                    675   \n",
       "unique                                   188   \n",
       "top     Lifestyle Home Centre SBI Card PRIME   \n",
       "freq                                      13   \n",
       "\n",
       "                                                 Cashback  \n",
       "count                                                 138  \n",
       "unique                                                122  \n",
       "top     Enjoy 10 Reward Points on every 100 Rs. spent ...  \n",
       "freq                                                    3  "
      ]
     },
     "execution_count": 6,
     "metadata": {},
     "output_type": "execute_result"
    },
    {
     "data": {
      "text/plain": [
       "<bound method DataFrame.info of                          CardVariant  \\\n",
       "0     Flipkart Axis Bank Credit Card   \n",
       "1     Flipkart Axis Bank Credit Card   \n",
       "2     Flipkart Axis Bank Credit Card   \n",
       "3    Axis Bank Privilege Credit Card   \n",
       "4    Axis Bank Privilege Credit Card   \n",
       "..                               ...   \n",
       "672   SBI ELITE Business Credit Card   \n",
       "673   SBI ELITE Business Credit Card   \n",
       "674   SBI ELITE Business Credit Card   \n",
       "675   SBI ELITE Business Credit Card   \n",
       "676   SBI ELITE Business Credit Card   \n",
       "\n",
       "                                              Cashback  \n",
       "0    5% cashback on Flipkart & Myntra. 4% cashback ...  \n",
       "1                                                  NaN  \n",
       "2                                                  NaN  \n",
       "3                                                  NaN  \n",
       "4                                                  NaN  \n",
       "..                                                 ...  \n",
       "672                                                NaN  \n",
       "673                                                NaN  \n",
       "674                                                NaN  \n",
       "675                                                NaN  \n",
       "676                                                NaN  \n",
       "\n",
       "[677 rows x 2 columns]>"
      ]
     },
     "execution_count": 6,
     "metadata": {},
     "output_type": "execute_result"
    }
   ],
   "source": [
    "df.info()\n",
    "df.describe()\n",
    "df.info"
   ]
  },
  {
   "cell_type": "code",
   "execution_count": 7,
   "metadata": {},
   "outputs": [
    {
     "data": {
      "text/html": [
       "<div>\n",
       "<style scoped>\n",
       "    .dataframe tbody tr th:only-of-type {\n",
       "        vertical-align: middle;\n",
       "    }\n",
       "\n",
       "    .dataframe tbody tr th {\n",
       "        vertical-align: top;\n",
       "    }\n",
       "\n",
       "    .dataframe thead th {\n",
       "        text-align: right;\n",
       "    }\n",
       "</style>\n",
       "<table border=\"1\" class=\"dataframe\">\n",
       "  <thead>\n",
       "    <tr style=\"text-align: right;\">\n",
       "      <th></th>\n",
       "      <th>CardVariant</th>\n",
       "      <th>Cashback</th>\n",
       "    </tr>\n",
       "  </thead>\n",
       "  <tbody>\n",
       "    <tr>\n",
       "      <th>0</th>\n",
       "      <td>Flipkart Axis Bank Credit Card</td>\n",
       "      <td>5% cashback on Flipkart &amp; Myntra. 4% cashback ...</td>\n",
       "    </tr>\n",
       "    <tr>\n",
       "      <th>1</th>\n",
       "      <td>Flipkart Axis Bank Credit Card</td>\n",
       "      <td>NaN</td>\n",
       "    </tr>\n",
       "    <tr>\n",
       "      <th>2</th>\n",
       "      <td>Flipkart Axis Bank Credit Card</td>\n",
       "      <td>NaN</td>\n",
       "    </tr>\n",
       "    <tr>\n",
       "      <th>3</th>\n",
       "      <td>Axis Bank Privilege Credit Card</td>\n",
       "      <td>NaN</td>\n",
       "    </tr>\n",
       "    <tr>\n",
       "      <th>4</th>\n",
       "      <td>Axis Bank Privilege Credit Card</td>\n",
       "      <td>NaN</td>\n",
       "    </tr>\n",
       "  </tbody>\n",
       "</table>\n",
       "</div>"
      ],
      "text/plain": [
       "                       CardVariant  \\\n",
       "0   Flipkart Axis Bank Credit Card   \n",
       "1   Flipkart Axis Bank Credit Card   \n",
       "2   Flipkart Axis Bank Credit Card   \n",
       "3  Axis Bank Privilege Credit Card   \n",
       "4  Axis Bank Privilege Credit Card   \n",
       "\n",
       "                                            Cashback  \n",
       "0  5% cashback on Flipkart & Myntra. 4% cashback ...  \n",
       "1                                                NaN  \n",
       "2                                                NaN  \n",
       "3                                                NaN  \n",
       "4                                                NaN  "
      ]
     },
     "execution_count": 7,
     "metadata": {},
     "output_type": "execute_result"
    },
    {
     "data": {
      "text/plain": [
       "(677, 2)"
      ]
     },
     "execution_count": 7,
     "metadata": {},
     "output_type": "execute_result"
    }
   ],
   "source": [
    "df1 = df.copy(deep=True)\n",
    "df1.head()\n",
    "df1.shape"
   ]
  },
  {
   "cell_type": "code",
   "execution_count": 8,
   "metadata": {},
   "outputs": [],
   "source": [
    "df = df[df['Cashback'].notna()]"
   ]
  },
  {
   "cell_type": "code",
   "execution_count": 9,
   "metadata": {},
   "outputs": [],
   "source": [
    "df.reset_index(inplace = True, drop = True)"
   ]
  },
  {
   "cell_type": "code",
   "execution_count": null,
   "metadata": {},
   "outputs": [],
   "source": []
  },
  {
   "cell_type": "code",
   "execution_count": 10,
   "metadata": {},
   "outputs": [
    {
     "data": {
      "text/html": [
       "<div>\n",
       "<style scoped>\n",
       "    .dataframe tbody tr th:only-of-type {\n",
       "        vertical-align: middle;\n",
       "    }\n",
       "\n",
       "    .dataframe tbody tr th {\n",
       "        vertical-align: top;\n",
       "    }\n",
       "\n",
       "    .dataframe thead th {\n",
       "        text-align: right;\n",
       "    }\n",
       "</style>\n",
       "<table border=\"1\" class=\"dataframe\">\n",
       "  <thead>\n",
       "    <tr style=\"text-align: right;\">\n",
       "      <th></th>\n",
       "      <th>CardVariant</th>\n",
       "      <th>Cashback</th>\n",
       "    </tr>\n",
       "  </thead>\n",
       "  <tbody>\n",
       "    <tr>\n",
       "      <th>0</th>\n",
       "      <td>Flipkart Axis Bank Credit Card</td>\n",
       "      <td>5% cashback on Flipkart &amp; Myntra. 4% cashback ...</td>\n",
       "    </tr>\n",
       "    <tr>\n",
       "      <th>1</th>\n",
       "      <td>AXIS Bank SELECT Credit Card</td>\n",
       "      <td>Earn 10 Axis EDGE points on every Rs. 200 spen...</td>\n",
       "    </tr>\n",
       "    <tr>\n",
       "      <th>2</th>\n",
       "      <td>Axis Bank Vistara Credit Card</td>\n",
       "      <td>Earn 2 CV Points* for every Rs 200 spent on th...</td>\n",
       "    </tr>\n",
       "    <tr>\n",
       "      <th>3</th>\n",
       "      <td>Axis Bank Vistara Signature Credit Card</td>\n",
       "      <td>Earn 4 CV Points* for every Rs. 200 spent on t...</td>\n",
       "    </tr>\n",
       "    <tr>\n",
       "      <th>4</th>\n",
       "      <td>Axis Bank Vistara Infinite Credit Card</td>\n",
       "      <td>Earn 6 CV Points* for every Rs. 200 spent on t...</td>\n",
       "    </tr>\n",
       "  </tbody>\n",
       "</table>\n",
       "</div>"
      ],
      "text/plain": [
       "                               CardVariant  \\\n",
       "0           Flipkart Axis Bank Credit Card   \n",
       "1             AXIS Bank SELECT Credit Card   \n",
       "2            Axis Bank Vistara Credit Card   \n",
       "3  Axis Bank Vistara Signature Credit Card   \n",
       "4   Axis Bank Vistara Infinite Credit Card   \n",
       "\n",
       "                                            Cashback  \n",
       "0  5% cashback on Flipkart & Myntra. 4% cashback ...  \n",
       "1  Earn 10 Axis EDGE points on every Rs. 200 spen...  \n",
       "2  Earn 2 CV Points* for every Rs 200 spent on th...  \n",
       "3  Earn 4 CV Points* for every Rs. 200 spent on t...  \n",
       "4  Earn 6 CV Points* for every Rs. 200 spent on t...  "
      ]
     },
     "execution_count": 10,
     "metadata": {},
     "output_type": "execute_result"
    },
    {
     "data": {
      "text/plain": [
       "(138, 2)"
      ]
     },
     "execution_count": 10,
     "metadata": {},
     "output_type": "execute_result"
    }
   ],
   "source": [
    "df2 = df.copy(deep=True)\n",
    "df2.head()\n",
    "df2.shape"
   ]
  },
  {
   "cell_type": "code",
   "execution_count": 11,
   "metadata": {},
   "outputs": [],
   "source": [
    "df['Cashback'] = df['Cashback'].astype(\"string\")"
   ]
  },
  {
   "cell_type": "code",
   "execution_count": 12,
   "metadata": {},
   "outputs": [
    {
     "data": {
      "text/html": [
       "<div>\n",
       "<style scoped>\n",
       "    .dataframe tbody tr th:only-of-type {\n",
       "        vertical-align: middle;\n",
       "    }\n",
       "\n",
       "    .dataframe tbody tr th {\n",
       "        vertical-align: top;\n",
       "    }\n",
       "\n",
       "    .dataframe thead th {\n",
       "        text-align: right;\n",
       "    }\n",
       "</style>\n",
       "<table border=\"1\" class=\"dataframe\">\n",
       "  <thead>\n",
       "    <tr style=\"text-align: right;\">\n",
       "      <th></th>\n",
       "      <th>CardVariant</th>\n",
       "      <th>Cashback</th>\n",
       "    </tr>\n",
       "  </thead>\n",
       "  <tbody>\n",
       "    <tr>\n",
       "      <th>0</th>\n",
       "      <td>Flipkart Axis Bank Credit Card</td>\n",
       "      <td>5% cashback on Flipkart &amp; Myntra. 4% cashback ...</td>\n",
       "    </tr>\n",
       "    <tr>\n",
       "      <th>1</th>\n",
       "      <td>AXIS Bank SELECT Credit Card</td>\n",
       "      <td>Earn 10 Axis EDGE points on every Rs. 200 spen...</td>\n",
       "    </tr>\n",
       "    <tr>\n",
       "      <th>2</th>\n",
       "      <td>Axis Bank Vistara Credit Card</td>\n",
       "      <td>Earn 2 CV Points* for every Rs 200 spent on th...</td>\n",
       "    </tr>\n",
       "    <tr>\n",
       "      <th>3</th>\n",
       "      <td>Axis Bank Vistara Signature Credit Card</td>\n",
       "      <td>Earn 4 CV Points* for every Rs. 200 spent on t...</td>\n",
       "    </tr>\n",
       "    <tr>\n",
       "      <th>4</th>\n",
       "      <td>Axis Bank Vistara Infinite Credit Card</td>\n",
       "      <td>Earn 6 CV Points* for every Rs. 200 spent on t...</td>\n",
       "    </tr>\n",
       "  </tbody>\n",
       "</table>\n",
       "</div>"
      ],
      "text/plain": [
       "                               CardVariant  \\\n",
       "0           Flipkart Axis Bank Credit Card   \n",
       "1             AXIS Bank SELECT Credit Card   \n",
       "2            Axis Bank Vistara Credit Card   \n",
       "3  Axis Bank Vistara Signature Credit Card   \n",
       "4   Axis Bank Vistara Infinite Credit Card   \n",
       "\n",
       "                                            Cashback  \n",
       "0  5% cashback on Flipkart & Myntra. 4% cashback ...  \n",
       "1  Earn 10 Axis EDGE points on every Rs. 200 spen...  \n",
       "2  Earn 2 CV Points* for every Rs 200 spent on th...  \n",
       "3  Earn 4 CV Points* for every Rs. 200 spent on t...  \n",
       "4  Earn 6 CV Points* for every Rs. 200 spent on t...  "
      ]
     },
     "execution_count": 12,
     "metadata": {},
     "output_type": "execute_result"
    }
   ],
   "source": [
    "df.head()"
   ]
  },
  {
   "cell_type": "code",
   "execution_count": 13,
   "metadata": {},
   "outputs": [],
   "source": [
    "df.to_csv('cashback_final.csv')"
   ]
  },
  {
   "cell_type": "code",
   "execution_count": 77,
   "metadata": {},
   "outputs": [
    {
     "data": {
      "text/plain": [
       "<bound method DataFrame.info of                                         CardVariant  \\\n",
       "0                    Flipkart Axis Bank Credit Card   \n",
       "1                      AXIS Bank SELECT Credit Card   \n",
       "2                     Axis Bank Vistara Credit Card   \n",
       "3           Axis Bank Vistara Signature Credit Card   \n",
       "4            Axis Bank Vistara Infinite Credit Card   \n",
       "..                                              ...   \n",
       "133                     Karur Vysya Bank - SBI Card   \n",
       "134  Bank of Maharashtra - SBI Platinum Credit Card   \n",
       "135                  Bank of Maharashtra - SBI Card   \n",
       "136                  SBI PRIME Business Credit Card   \n",
       "137                  SBI ELITE Business Credit Card   \n",
       "\n",
       "                                              Cashback  \n",
       "0    5% cashback on Flipkart & Myntra. 4% cashback ...  \n",
       "1    Earn 10 Axis EDGE points on every Rs. 200 spen...  \n",
       "2    Earn 2 CV Points* for every Rs 200 spent on th...  \n",
       "3    Earn 4 CV Points* for every Rs. 200 spent on t...  \n",
       "4    Earn 6 CV Points* for every Rs. 200 spent on t...  \n",
       "..                                                 ...  \n",
       "133  Enjoy up to 2.5% value back, as you get 10X Re...  \n",
       "134  Earn 2 Reward points for every Rs. 100 spent o...  \n",
       "135  Enjoy up to 2.5% value back, as you get 10X Re...  \n",
       "136  Get 10 Reward Points per Rs.100 spent on Dinin...  \n",
       "137  Get 5X Reward Points on Dining, Utility Bills ...  \n",
       "\n",
       "[138 rows x 2 columns]>"
      ]
     },
     "execution_count": 77,
     "metadata": {},
     "output_type": "execute_result"
    }
   ],
   "source": [
    "df.info"
   ]
  },
  {
   "cell_type": "code",
   "execution_count": 78,
   "metadata": {},
   "outputs": [],
   "source": [
    "stop_words = nltk.corpus.stopwords.words('english')"
   ]
  },
  {
   "cell_type": "code",
   "execution_count": 79,
   "metadata": {},
   "outputs": [],
   "source": [
    "porter = PorterStemmer()"
   ]
  },
  {
   "cell_type": "code",
   "execution_count": 80,
   "metadata": {},
   "outputs": [
    {
     "name": "stderr",
     "output_type": "stream",
     "text": [
      "100%|██████████| 138/138 [00:00<00:00, 2967.93it/s]\n"
     ]
    }
   ],
   "source": [
    "#stemmer = SnowballStemmer(\"english\")\n",
    "preprocess_cashback=[]\n",
    "for s in tqdm(df['Cashback'].values):\n",
    "    #s=re.sub(r'S*\\d\\S*','',s)\n",
    "    s=re.sub('[^a-zA-Z0-9]',' ',s)\n",
    "#     soup=BeautifulSoup(s)\n",
    "#     s=soup.get_text()\n",
    "    s=re.sub(r'http\\S+','',s)\n",
    "    words=word_tokenize(s.lower())\n",
    "\n",
    "    #Removing all single letter and and stopwords from question exceptt for the letter 'c'\n",
    "    s=' '.join(str(j) for j in words if j not in stop_words and (len(j)!=1 ))\n",
    "    preprocess_cashback.append(s.strip())"
   ]
  },
  {
   "cell_type": "code",
   "execution_count": 81,
   "metadata": {},
   "outputs": [
    {
     "data": {
      "text/plain": [
       "['cashback flipkart myntra cashback preferred merchants cashback categories',\n",
       " 'earn 10 axis edge points every rs 200 spends earn 2x per rs 200 retail shopping spends',\n",
       " 'earn cv points every rs 200 spent axis bank vistara credit card redeem upgrades award flights faster options redeem points get bonus cv points upto economy class tickets achieving milestone spends',\n",
       " 'earn cv points every rs 200 spent axis bank vistara signature credit card redeem upgrades award flights options redeem points get bonus cv points complimentary premium economy tickets achieving milestone spends',\n",
       " 'earn cv points every rs 200 spent axis bank vistara infinite credit card redeem upgrades award flights faster options redeem points get bonus cv points complimentary business class tickets achieving milestone spends',\n",
       " 'cashback freecharge spends cashback spends',\n",
       " 'spends',\n",
       " '25 cashback online box office movie ticket purchases week zone easy credit card reward points earned movie offer transactions amount cashback calendar year limited rs 1000',\n",
       " '20 cashback bare fare domestic flight bookings rs 25 every time ticket booked wings credit card tickets booked www irctc com maximum cashback rs 25 per transaction maximum annual benefits rs 200 per cardholder rs 500 cashback booking domestic return air ticket rs 500 cashback booking international return air tickets rs 000 cashback booking hotels across india nepal bhutan minimum booking value rs 000 rs 500 cashback international hotel bookings rs 000 rs 500 cashback domestic holidays worth rs 20 000 rs 000 booking international holidays minimum booking value rs 20 000 rs 100 bus ticket bookings flat rs 400 per car booking car rentals within india',\n",
       " 'earn payback points icici bank rewards every rs 100 spent card except fuel earn payback points icici bank rewards every rs 100 spent online transactions earn payback point icici bank rewards every rs 100 spent utilities insurance categories icici bank milestone rewards programme get 2000 payback points icici bank rewards spending rs 00 000 card 1000 payback points icici bank rewards time cross rs 00 000 spend thereafter anniversary year maximum 10 000 payback points per year',\n",
       " 'earn payback points every rs 100 spent card except fuel get payback point every rs 100 spent utilities insurance categories new icici bank milestone rewards program get 2000 payback points spending rs 00 000 card 1000 payback points time cross rs 00 000 spend thereafter anniversary year maximum 10000 payback points per year',\n",
       " 'new icici bank milestone rewards program get 000 payback points spending rs 00 000 card 500 payback points time cross rs 00 000 spend thereafter anniversary year maximum 15 000 payback points per year get one payback point every rs 100 spent utilities insurance categories redeem rewards exciting selection gifts cash reward point equivalent rs 25 redeemed cash',\n",
       " 'new milestone rewards program get 000 payback points spending rs 00 000 card 000 payback points time cross rs 00 000 spend thereafter anniversary year maximum 20 000 payback points per year get payback points every rs 100 spent utilities insurance categories',\n",
       " 'earn payback points every rs 100 spent retail purchases except fuel points easily redeemable attractive products including manchester united merchandise payback india largest multi partner coalition loyalty programme',\n",
       " 'earn payback points every rs 100 spent retail purchases except fuel points easily redeemable attractive products including manchester united merchandise payback india largest multi partner coalition loyalty programme',\n",
       " 'earn payback points every 100 spent retail purchases except fuel points easily redeemable attractive products payback india largest multi partner coalition loyalty programme get payback point every 100 spent utilities insurance categories',\n",
       " 'enjoy accelerated 3x rewards every 100 spent get icici bank reward points powered payback fuel spends hpcl pumps payback points icici bank rewards retail spends redeem payback points icici bank rewards hpcl pumps every 000 payback points earn fuel worth 500',\n",
       " 'earn payback points every 100 spent retail purchases except fuel redeem 2000 payback points fuel worth 500',\n",
       " 'earn payback points use icici bank credit card also earn additional points payback partner brands purchase redeem payback points many options movie travel vouchers lifestyle products mobiles appliances icici bank credit card payback shopping truly rewarding earn payback points every 100 spent retail purchases except fuel swipe payback membership card select hpcl pumps instantly redeem points fuel pump every 000 payback points earn fuel worth 500',\n",
       " 'earn rewards daily essential spends across mobile bills electricity bills departmental store purchases get back spends across categories every rs 100 spent receive 20 payback points earn payback points every rs 100 spent retail purchases icici bank credit card entitles earn payback points transactions payback india largest reward programme powered icici bank rewards bring range exciting rewards everyday spending earn payback points use icici bank credit card also earn additional points payback partner brands purchase swipe payback membership card select hpcl pumps instantly redeem points fuel pump earn fuel worth rs 500 every 000 payback points redeem payback points many options hpcl fuel pumps movies travel vouchers lifestyle products mobiles appliances icici bank credit card payback shopping truly rewarding redemption option available payback points customer earn rs 300 per month form cashback accelerated rewards across categories fuel cashback comprises fuel surcharge cashback capped rs 200 per month accelerated reward points categories departmental stores electricity mobile bills capped rs 100 worth payback points per month',\n",
       " 'earn payback points every inr 100 spent retail purchases points easily redeemable premium automobile products branded merchandise',\n",
       " 'cashback online spends cashback offline spends wallet reloads',\n",
       " 'cashback online spends cashback offline spends wallet reloads',\n",
       " 'cashback online spends cashback offline spends wallet reloads',\n",
       " 'reward points every 150 spent',\n",
       " 'complimentary ola select cult fit live bookmyshow tatacliq vouchers spends rs 80 000 every month reward points every rs 150 spent 10x reward points partner brands',\n",
       " 'upto unlimited cashback everytime',\n",
       " 'upto unlimited cashback everytime',\n",
       " 'upto unlimited cashback everytime',\n",
       " 'reward points every 150 spent',\n",
       " 'complimentary ola select cult fit live bookmyshow tatacliq vouchers spends rs 40 000 every month reward points every rs 150 spent 10x reward points partner brands',\n",
       " 'cashback amazon bookmyshow cult fit flipkart myntra sony liv swiggy tata cliq uber zomato cashback spends except fuel including emi wallet transactions cashback amazon flipkart flight hotel bookings shopping via payzapp smartbuy cashback online spends cashback offline spends wallet reloads',\n",
       " '10x cashpoints amazon bigbasket flipkart reliance smart superstore swiggy 5x cashpoints emi spends merchant locations cashpoints spends excluding fuel wallets loads',\n",
       " 'earn 10x cashpoints favourite merchants big basket bookmyshow oyo swiggy uber earn 5x cashpoints emi spends merchant locations earn cashpoint per every rs 150 spends excluding fuel wallets loads',\n",
       " 'earn reward points every rs 150 spent earn reward points every rs 150 spent online',\n",
       " 'reward points every 150 spent',\n",
       " 'earn reward point every 150 spent',\n",
       " 'reward points every 150 spent',\n",
       " 'reward points every 150 spent',\n",
       " '6e rewards spends',\n",
       " '6e rewards spends',\n",
       " 'cashback amazon flipkart flight hotel bookings shopping via payzapp smartbuy cashback online spends cashback offline spends wallet reloads',\n",
       " 'upto unlimited cashback everytime cash advance fee reversal rs 500',\n",
       " 'upto unlimited cashback everytime',\n",
       " 'reward points every rs 150 spent cashback telecom electricity government tax railway hotels dining taxi spends',\n",
       " 'reward points every rs 150 spent online purchases reward points every rs 150 spent expenses except fuel cashback telecom electricity government tax railway hotels dining taxi spends',\n",
       " 'reward points every rs 150 spent best price purchases reward points every rs 150 spent irctc utility dining',\n",
       " 'cashback best price spends',\n",
       " 'reward points every rs 150 spent online purchases reward points every rs 150 spent expenses except fuel cashback telecom electricity government tax railway hotels dining taxi spends',\n",
       " 'three reward points every rs 150 spent redeem points air miles double reward points spends allmiles website',\n",
       " 'cashback irctc bookings bill payments fuel spends additional cashback easyemi payzapp smartbuy spends',\n",
       " 'enjoy cashback various products categories',\n",
       " 'enjoy cashback movies dining super market spends taxi bill payment',\n",
       " 'enjoy cashback retail international spends',\n",
       " 'earn reward points every 150 spent cashback irctc utility tax payments',\n",
       " 'earn reward points every rs 150 retail spends 10x reward points partner brands',\n",
       " 'earn reward points every rs 150 retail spends 10x reward points partner brands',\n",
       " 'reward points every 150 spent 50 points dining spends reward points exchanged miles miles every point',\n",
       " 'exciting cashback offers everyday spends reward points every 150 spent 50 reward points premium restaurants redemption reward points cashback pay credit card dues',\n",
       " 'reward points every 150 spent 50 reward points every 150 spent 50 000 per statement cycle',\n",
       " 'reward points every 150 spent 50 reward points dining grocery spends',\n",
       " 'reward points every 150 spent 3x reward points weekends',\n",
       " 'great cashback offers everyday spends reward points every 150 spent 50 reward points premium restaurants redemption reward points cashback pay credit card dues',\n",
       " 'reward points every 150 spent',\n",
       " 'reward points every 150 spent 50 reward points every 150 spent 75 000 per statement cycle',\n",
       " 'cashback shopping via payzapp smartbuy cashback online spends cashback offline spends wallet reloads',\n",
       " 'earn reward points every 150 spent',\n",
       " 'earn reward points every rs 150 spent card',\n",
       " 'earn reward points every 150 spend air travel hotel bookings dining commerce spends',\n",
       " 'earn two reward points every 150 spend',\n",
       " 'enjoy cashback purchases',\n",
       " 'get 5x reward points dining departmental stores grocery spends earn reward points per rs 100 spends except fuel pay card outstanding reward points reward points rs',\n",
       " 'enjoy 10 reward points per rs 100 spent chemist pharmacy dining movies spends earn reward points per rs 100 spent spends pay card outstanding reward points reward points rs also redeem reward points host options reward catalogue',\n",
       " 'get 5x reward points medical supplies travel bookings international spends get 5x reward points spends doctor day 1st july earn reward point per rs 100 spends pay card outstanding reward points reward points rs',\n",
       " 'get 5x reward points dining departmental stores grocery spends earn reward points per rs 100 spends pay card outstanding reward points reward points rs',\n",
       " 'get 5x reward points medical supplies travel bookings international spends get 5x reward points spends doctors day 1st july earn reward point per rs 100 spends pay card outstanding reward points reward points rs also redeem reward points host options reward catalogue gift voucher yatra com bata shoppers stop worth rs 000 achieving annual spends rs lakhs',\n",
       " 'get 10 reward points per rs 100 spent dining groceries departmental stores movies earn reward points per rs 100 retail spends except fuel pay card outstanding reward points reward points rs',\n",
       " 'earn 20 reward points per rs 100 spent standing instructions utility bills payments capping 000 reward points per month earn 10 reward points per rs 100 spent dining departmental stores grocery movie spends earn reward points per rs 100 retail spends except fuel pay card outstanding reward points reward points rs',\n",
       " 'enjoy freedom paying fuel surcharge across petrol pumps india maximum surcharge waiver rs 100 monthly fuel transactions rs 500 rs 000 eligible fuel surcharge waiver gst extra wherever applicable',\n",
       " 'earn reward points spends earn reward points ola rides reward points automatically credited ola money wallet reward point',\n",
       " 'cashback paytm mall movies travel cashback purchases paytm app cashback spends across millions offline online stores cashback paytm mall movies travel cashback purchases paytm app cashback spends across millions offline online stores',\n",
       " '10 reward points per 100 spent fabindia stores reward points per 100 spent dining movies entertainment reward point per 100 spent international spends reward point per 200 spent spends convert reward points fabfamily rewards placing website mobile call center fabfamily rewards used shopping fabindia stores minimum reward points redeemed 100 reward points multiple 100 200 500 reward point fabfamily reward',\n",
       " 'reward points per 100 spent fabindia stores reward points per 100 spent dining movies entertainment reward point per 100 spent international spends reward point per 200 spent spends convert reward points fabfamily rewards placing website mobile call center fabfamily rewards used shopping fabindia stores minimum reward points redeemed 100 reward points multiple 100 200 500 reward point fabfamily reward',\n",
       " 'get 12 000 reward point worth rs 000 payment renewal fees reward points credited card holders account within 30 days fee payment enjoy 15 reward points every 100 rs spent online retail landmark stores lifestyle home centre max spar enjoy 10 reward points every 100 rs spent dining movies earn reward point per 100 rs spent retail purchases non fuel reward point rs redeem reward points instantly lifestyle home centre max stores convert reward points landmark landmark rewards via calling helpline number lmr sbi card reward points approach cashier billing share last digits credit card registered mobile reward points converted landmark rewards instant redemption landmark reward rs 60',\n",
       " 'enjoy 15 reward points every 100 rs spent online retail landmark stores lifestyle home centre max spar enjoy 10 reward points every 100 rs spent dining movies earn reward point per 100 rs spent retail purchases non fuel reward point rs redeem reward points instantly lifestyle home centre max stores convert reward points landmark landmark rewards via calling helpline number lmr sbi card reward points approach cashier billing share last digits credit card registered mobile reward points converted landmark rewards instant redemption landmark reward rs 60',\n",
       " 'enjoy 15 reward points every 100 rs spent online retail landmark stores lifestyle home centre max spar enjoy 10 reward points every 100 rs spent dining movies earn reward point per 100 rs spent retail purchases non fuel reward point rs redeem reward points instantly lifestyle home centre max stores convert reward points landmark landmark rewards via calling helpline number lmr sbi card reward points approach cashier billing share last digits credit card registered mobile reward points converted landmark rewards instant redemption landmark reward rs 60',\n",
       " 'enjoy 10 reward points every 100 rs spent online retail landmark stores lifestyle home centre max spar dining movies earn reward point per 100 rs spent retail purchases non fuel reward point rs redeem reward points instantly lifestyle home centre max stores convert reward points landmark landmark rewards via calling helpline number lmr sbi card reward points approach cashier billing share last digits credit card registered mobile reward points converted landmark rewards instant redemption landmark reward rs 60',\n",
       " 'enjoy 10 reward points every 100 rs spent online retail landmark stores lifestyle home centre max spar dining movies earn reward point per 100 rs spent retail purchases non fuel reward point rs redeem reward points instantly lifestyle home centre max stores convert reward points landmark landmark rewards via calling helpline number lmr sbi card reward points approach cashier billing share last digits credit card registered mobile reward points converted landmark rewards instant redemption landmark reward rs 60',\n",
       " 'enjoy 10 reward points every 100 rs spent online retail landmark stores lifestyle home centre max spar dining movies earn reward point per 100 rs spent retail purchases non fuel reward point rs redeem reward points instantly lifestyle home centre max stores convert reward points landmark landmark rewards via calling helpline number lmr sbi card reward points approach cashier billing share last digits credit card registered mobile reward points converted landmark rewards instant redemption landmark reward rs 60',\n",
       " 'enjoy reward points every 100 rs spent online retail landmark stores lifestyle home centre max spar dining movies earn reward point per 100 rs spent retail purchases non fuel reward point rs redeem reward points instantly lifestyle home centre max stores convert reward points landmark landmark rewards via calling helpline number lmr sbi card reward points approach cashier billing share last digits credit card registered mobile reward points converted landmark rewards instant redemption landmark reward rs 60',\n",
       " 'enjoy reward points every 100 rs spent online retail landmark stores lifestyle home centre max spar dining movies earn reward point per 100 rs spent retail purchases non fuel reward point rs get maximum surcharge waiver rs 100 per statement cycle per credit card account redeem reward points instantly lifestyle home centre max stores convert reward points landmark landmark rewards via calling helpline number lmr sbi card reward points approach cashier billing share last digits credit card registered mobile reward points converted landmark rewards instant redemption landmark reward rs 60',\n",
       " 'enjoy reward points every 100 rs spent online retail landmark stores lifestyle home centre max spar dining movies earn reward point per 100 rs spent retail purchases non fuel reward point rs redeem reward points instantly lifestyle home centre max stores convert reward points landmark landmark rewards via calling helpline number lmr sbi card reward points approach cashier billing share last digits credit card registered mobile reward points converted landmark rewards instant redemption landmark reward rs 60',\n",
       " 'earn 10x rewards online spends exclusive partners amazon apollo24x7 bookmyshow cleartrip eazydiner lenskart netmeds earn 5x rewards online spends earn reward point per rs 100 spends spend rs 000 first 60 days get 000 bonus reward points enjoy 10 reward points per rs 100 spent dining movies departmental stores grocery spends spends earn reward point per rs 100 spent reward points rs',\n",
       " 'upfront discount flat 10 round year whenever shop fashion apparel accessories backpacks footwear school bags fbbonline fbb big bazaar stores 10x reward points spends big bazaar standalone fbb food bazaar outlets dining expenditures retail spends less fuel earn reward point per rs 100 spent',\n",
       " '20 select points every rs 100 spent central store 10 select points every rs 100 dining movies select points every rs 100 retail spends non fuel select point rs 25',\n",
       " '10 select points every rs 100 spent central store select points every rs 100 dining movies select points every rs 100 retail spends non fuel select point rs 25',\n",
       " 'get reward point per rs 100 spent use credit card reward points redeem wide array gifts rewards catalogue',\n",
       " 'earn 10x rewards online spends exclusive partners amazon apollo24x7 bookmyshow cleartrip eazydiner lenskart netmeds earn 5x rewards online spends',\n",
       " 'enjoy 10 reward points per rs 150 spent dining movies departmental stores grocery spends spends earn reward point per rs 150 spent reward points rs',\n",
       " 'earn 5x reward points csd dining movies departmental stores grocery spends earn reward point per rs 100 spent categories',\n",
       " 'earn 10 reward points per rs 100 spent dining movies departmental stores grocery including csd canteen spends earn reward points per rs 100 spent spends',\n",
       " 'enjoy 25 reward points every rs 100 spent bpcl fuel lubricants bharat gas website app spends enjoy 10 reward points every rs 100 spent dining departmental stores grocery movies 7500 reward points per month',\n",
       " '10 value back ac1 ac2 ac3 ac cc reward points ticket purchase www irctc co irctc mobile app android earn reward points per 125 spent dining standing instructions utility spends save transaction charges railway ticket bookings www irctc co save transaction charges airline ticket bookings www air irctc co',\n",
       " 'buy tickets irctc co irctc mobile app android ac1 ac2 ac3 ac cc earn 10 value back reward points get reward point every rs 125 spent non fuel retail purchases including railway ticket purchases www irctc co irctc mobile app android save transaction charges railway ticket bookings www irctc co',\n",
       " 'earn cv points per rs 200 spent spends',\n",
       " 'earn cv points per rs 200 spent spends',\n",
       " 'etihad guest miles every rs 100 spent etihad com etihad guest miles every rs 100 spent international spends etihad guest miles every rs 100 spent spends except fuel upto 10 economy class 10 business class discount direct etihad airways booking upto 10 discount travel rewards miles redemption',\n",
       " 'etihad guest miles every rs 100 spent etihad com etihad guest miles every rs 100 spent international spends etihad guest mile every rs 100 spent spends except upto 10 economy class 10 business class discount direct etihad airways booking discount travel rewards miles redemption',\n",
       " '25 valueback 13x reward points fuel purchases bpcl petrol pumps maximum 1300 reward points per billing cycle 25 fuel surcharge waiver every bpcl transaction upto 4000 exclusive gst charges 5x reward points every 100 spent groceries departmental stores movies dining 5000 reward points per month get reward point every rs 100 spent non fuel retail purchases',\n",
       " 'rs 000 domestic flight bookings min trxn rs 000 rs 000 international flight bookings min trxn rs 40 000 20 domestic hotels min trxn rs 000 max discount rs 000',\n",
       " 'reward points every rs 100 spend departmental stores grocery dining movies entertainment 5000 reward points per month international spends 5000 reward points per month',\n",
       " 'get reward points every rs 100 spent get 00 000 bonus reward points annually convert reward points air india miles reward point equal air india air mile earn upto 30 reward points every rs 100 spent air india tickets booked airindia com airindia mobile app 30 reward points booked self 10 reward points booked others',\n",
       " 'get reward points every rs 100 spent get upto 15 000 bonus reward points annually convert reward points air india miles reward point equal air india air mile earn upto 15 reward points every rs 100 spent air india tickets booked airindia com airindia mobile app 15 reward points booked self reward points booked others',\n",
       " '10 reward points per per rs 100 spent auto top 10 reward points per rs 100 spent dining movies grocery departmental stores 5000 reward points per month reward point per rs 100 spent categories cumulative 10x reward points accrued per rs 100 spent dining movies grocery departmental stores mumbai metro sbi card maximum cap 000 reward points per month cap limit 000 reward points achieved reward point every rs 100 spent per card policy continue accrue cumulative 10x reward points accrued per rs 100 spent auto top mumbai metro sbi card maximum cap 000 reward points per month cap limit 000 reward points achieved reward point every rs 100 spent per card policy continue accrue',\n",
       " '10 reward points per rs 100 spent dining movies grocery departmental stores standing instruction utility bill payments 5000 reward points per month reward point per rs 100 spent categories',\n",
       " 'buy tickets irctc co irctc mobile app android ac1 ac2 ac3 ac cc earn 10 value back reward points get reward point every rs 125 spent non fuel retail purchases including railway ticket purchases www irctc co irctc mobile app android save transaction charges railway ticket bookings www irctc co',\n",
       " 'get 5x reward points dining departmental stores grocery spends earn reward points per rs 100 spends except fuel',\n",
       " 'get 20 reward points per rs 100 spent standing instructions utility bills payments get 10 reward points per rs 100 spent dining groceries departmental stores movies enjoy 20 reward points per rs 100 spent birthday',\n",
       " 'spend rs 000 first 60 days get 000 bonus reward points enjoy 10 reward points per rs 150 spent dining movies departmental stores grocery spends earn reward point per rs 150 spent spends reward points rs',\n",
       " 'get 5x reward points dining departmental stores grocery spends earn reward points per rs 100 spends except fuel',\n",
       " 'get 20 reward points per rs 100 spent standing instructions utility bills payments get 10 reward points per rs 100 spent dining groceries departmental stores movies enjoy 20 reward points per rs 100 spent birthday',\n",
       " 'spend 000 first 60 days get 000 bonus reward points enjoy 10 reward points per rs 150 spent dining movies departmental stores grocery spends spends earn reward point per rs150 spent reward points',\n",
       " 'get 20 reward points per rs 100 spent standing instructions utility bills payments get 10 reward points per rs 100 spent dining groceries departmental stores movies enjoy 20 reward points per rs 100 spent birthday',\n",
       " 'spend rs 000 first 60 days get 000 bonus reward points enjoy 10 reward points per rs 150 spent dining movies departmental stores grocery spends earn reward point per rs 150 spent spends reward points rs',\n",
       " 'get 5x reward points dining departmental stores grocery spends earn reward points per rs 100 spends except fuel',\n",
       " 'get 20 reward points per rs 100 spent standing instructions utility bills payments get 10 reward points per rs 100 spent dining groceries departmental stores movies enjoy 20 reward points per rs 100 spent birthday',\n",
       " 'spend 000 first 60 days get 000 bonus reward points enjoy 10 reward points per rs 150 spent dining movies departmental stores grocery spends spends earn reward point per rs150 spent reward points',\n",
       " 'get 20 reward points per rs 100 spent standing instructions utility bills payments get 10 reward points per rs 100 spent dining groceries departmental stores movies enjoy 20 reward points per rs 100 spent birthday',\n",
       " 'earn reward point every rs 150 spent get value back departmental store grocery purchases',\n",
       " 'earn reward points every rs 100 spent categories get spend rewards annual spending rs lakhs lakhs gift voucher worth rs 000 following brands yatra hush puppies bata westside shoppers stop',\n",
       " 'earn reward point every rs 150 spent get value back departmental store grocery purchases',\n",
       " 'earn 10 000 bonus reward points achieving annual spends rs lakhs lakhs lakhs earn 20 000 bonus reward points crossing annual spends rs lakhs get 5x reward points dining departmental stores grocery spends earn reward points every rs 100 spent categories',\n",
       " 'earn reward points every rs 100 spent categories get spend rewards annual spending rs lakhs lakhs gift voucher worth rs 000 following brands yatra hush puppies bata westside shoppers stop',\n",
       " 'enjoy value back get 10x reward points per rs 150 spent departmental grocery stores spends earn reward point per rs 150 spent reward points rs',\n",
       " 'earn reward points every rs 100 spent categories get spend rewards annual spending rs lakhs lakhs gift voucher worth rs 000 following brands yatra hush puppies bata westside shoppers stop',\n",
       " 'enjoy value back get 10x reward points per rs 150 spent departmental grocery stores spends earn reward point per rs 150 spent reward points rs',\n",
       " 'get 10 reward points per rs 100 spent dining utility bills payments office supplies earn reward points per rs 100 retail spends except fuel earn 10 reward points 5x per inr 100 spends metro cash carry stores complimentary privileges bandhan loyalty program metro cash carry get inr 750 flight bookings inr 6000 quarter get 20 hotel bookings quarter enjoy complimentary green fees access per year complimentary golf coaching lesson per month select golf courses india enjoy 15 discount best available room rates 15 discount lalit hotels enjoy 25 flat discount bookings sarovar hotels get 20 hotels homestays travelguru com get 15 text classified display classified bookmyad com flat 30 printvenue',\n",
       " 'get 5x reward points dining utility bills payments office supplies earn reward points per rs 100 spends except fuel get inr 750 flight bookings inr 6000 quarter get 20 hotel bookings quarter earn 10 reward points 5x per inr 100 spends metro cash carry stores complimentary privileges bandhan loyalty program metro cash carry enjoy complimentary green fees access per year complimentary golf coaching lesson per month select golf courses india enjoy 15 discount best available room rates 15 discount lalit hotels enjoy 25 flat discount bookings sarovar hotels get 20 hotels homestays travelguru com get 15 text classified display classified bookmyad com flat 30 printvenue']"
      ]
     },
     "execution_count": 81,
     "metadata": {},
     "output_type": "execute_result"
    }
   ],
   "source": [
    "preprocess_cashback"
   ]
  },
  {
   "cell_type": "code",
   "execution_count": 84,
   "metadata": {},
   "outputs": [],
   "source": [
    "#corpus = df[\"Cashback\"].tolist()\n",
    "#data = preprocess_cashback"
   ]
  },
  {
   "cell_type": "code",
   "execution_count": 85,
   "metadata": {},
   "outputs": [],
   "source": [
    "#type(data)"
   ]
  },
  {
   "cell_type": "code",
   "execution_count": null,
   "metadata": {},
   "outputs": [],
   "source": []
  },
  {
   "cell_type": "code",
   "execution_count": 149,
   "metadata": {},
   "outputs": [],
   "source": [
    "def wordcloud(msg_lst):\n",
    "    word_tokens =[]\n",
    "    for msg in msg_lst:\n",
    "        word_tokens.extend(word_tokenize(msg))\n",
    "    #tokenize words from extracted text\n",
    "     \n",
    "    #word_tokens = [tok for tok in data.split()]\n",
    "    #print(\" \\n word tokens are : \",word_tokens[:25]) \n",
    "    \n",
    "    #define stopwords form nltk\n",
    "    stopWords = stopwords.words('english')\n",
    "    # define custom stop words\n",
    "    # removing oxygen and oxgencrisis words from tokens list\n",
    "#     stopWords2 = ['1','2','3','4','5','6','7','8','9','0','`','~','!','@','#','$','%','^','&','*','(',')','-','_','=',\n",
    "#               '+','[',']','{','}','\\\\','|',':',';','/','\"','<','>',',','.','?',\"'\",'\"',\"'s\",'’','–','.','“','—','--',\n",
    "#                   'http','https','...','..','…',\"n't\",'oxygen','oxygenemergency','भारत_का_गुनेहगार_मोदी','भारत_का_कुपुत्र_मोदी','co']\n",
    "    \n",
    "    #filter words(tokens) by removing stop words, numbers, special charactes and symbols\n",
    "    #stopWords2 = ['http','https','000','rs','100','150','10','per']\n",
    "    stopWords.extend(['http','https','000','rs','100','150','10','per','get','every','spent','spends','point','points','credit',\n",
    "                     'card','20','reward','earn','lakh','annual','payback', 'cashback','rewards','enjoy','purchases','redeem','except fuel',\n",
    "                     'bank','5x','categories','icici','month','spend','select','non fuel','redemption','upto','50','200','500',\n",
    "                     '60','15','10x','except','fuel','non','convert','bonus','via','25','year','maximum','worth','instantly','payments',\n",
    "                     'lakhs','sbi','axis','hdfc','day'])\n",
    "    wordsFiltered = []\n",
    "    for w in word_tokens:\n",
    "        if  w.lower() not in stopWords:\n",
    "            wordsFiltered.append(w.lower())\n",
    "    #print(\"\\n length of filtered tokens is : \",len(wordsFiltered))\n",
    "    #print(\"\\n filtered tokens are : \",wordsFiltered[:25])\n",
    "    \n",
    "    #get frequency distribution of filtered words\n",
    "    Freq_dist_nltk=nltk.FreqDist(wordsFiltered)\n",
    "    \n",
    "    #sort the tokens based on the frequency distribution in descending order\n",
    "    sorted_d = sorted(Freq_dist_nltk.items(), key=operator.itemgetter(1),reverse=True)\n",
    "    #print(\"\\n frequency distribution of filtered and sorted tokens :\",sorted_d[:25])\n",
    "    print(\"\\n frequency distribution nltk graph : \")\n",
    "    #plot frequency distribution graph for top 25 frequent words\n",
    "    Freq_dist_nltk.plot(25, cumulative=False)\n",
    "    \n",
    "    words_df = pd.DataFrame({'word':list(Freq_dist_nltk.keys()),   \n",
    "             'count':list(Freq_dist_nltk.values())}) \n",
    "      # selecting top 20 most frequent words \n",
    "    d = words_df.nlargest(columns=\"count\", n = 10)      \n",
    "    plt.figure(figsize=(10,7)) \n",
    "    ax = sns.barplot(data=d, x= \"word\", y = \"count\") \n",
    "    ax.set(ylabel = 'Count') \n",
    "    plt.show()\n",
    "    \n",
    "    print(\"\\n wordcloud graph : \")\n",
    "    #plot wordcloud graph\n",
    "    wordcloud = WordCloud(background_color='white', width=800, height=500, random_state=21, max_font_size=110).generate_from_frequencies(Freq_dist_nltk)\n",
    "    plt.figure(figsize=(10, 7))\n",
    "    plt.imshow(wordcloud, interpolation='bilinear')\n",
    "    plt.axis(\"off\")"
   ]
  },
  {
   "cell_type": "code",
   "execution_count": 150,
   "metadata": {},
   "outputs": [
    {
     "name": "stdout",
     "output_type": "stream",
     "text": [
      "\n",
      " frequency distribution nltk graph : \n"
     ]
    },
    {
     "data": {
      "image/png": "[encoded data removed]",
      "text/plain": [
       "<Figure size 432x288 with 1 Axes>"
      ]
     },
     "metadata": {
      "needs_background": "light"
     },
     "output_type": "display_data"
    },
    {
     "name": "stderr",
     "output_type": "stream",
     "text": [
      "/opt/anaconda3/lib/python3.8/site-packages/seaborn/categorical.py:332: DeprecationWarning: `np.float` is a deprecated alias for the builtin `float`. To silence this warning, use `float` by itself. Doing this will not modify any behavior and is safe. If you specifically wanted the numpy scalar type, use `np.float64` here.\n",
      "Deprecated in NumPy 1.20; for more details and guidance: https://numpy.org/devdocs/release/1.20.0-notes.html#deprecations\n",
      "  np.asarray(s, dtype=np.float)\n",
      "/opt/anaconda3/lib/python3.8/site-packages/seaborn/utils.py:551: DeprecationWarning: `np.float` is a deprecated alias for the builtin `float`. To silence this warning, use `float` by itself. Doing this will not modify any behavior and is safe. If you specifically wanted the numpy scalar type, use `np.float64` here.\n",
      "Deprecated in NumPy 1.20; for more details and guidance: https://numpy.org/devdocs/release/1.20.0-notes.html#deprecations\n",
      "  np.asarray(values).astype(np.float)\n"
     ]
    },
    {
     "data": {
      "image/png": "[encoded data removed]",
      "text/plain": [
       "<Figure size 720x504 with 1 Axes>"
      ]
     },
     "metadata": {
      "needs_background": "light"
     },
     "output_type": "display_data"
    },
    {
     "name": "stdout",
     "output_type": "stream",
     "text": [
      "\n",
      " wordcloud graph : \n"
     ]
    },
    {
     "data": {
      "image/png": "[encoded data removed]",
      "text/plain": [
       "<Figure size 720x504 with 1 Axes>"
      ]
     },
     "metadata": {
      "needs_background": "light"
     },
     "output_type": "display_data"
    }
   ],
   "source": [
    "wordcloud(preprocess_cashback) "
   ]
  },
  {
   "cell_type": "code",
   "execution_count": 151,
   "metadata": {},
   "outputs": [
    {
     "name": "stderr",
     "output_type": "stream",
     "text": [
      "[nltk_data] Downloading package stopwords to /Users/ravi/nltk_data...\n",
      "[nltk_data]   Package stopwords is already up-to-date!\n"
     ]
    },
    {
     "data": {
      "text/plain": [
       "True"
      ]
     },
     "execution_count": 151,
     "metadata": {},
     "output_type": "execute_result"
    },
    {
     "name": "stdout",
     "output_type": "stream",
     "text": [
      "['flipkart', 'myntra', 'preferred', 'merchants']\n"
     ]
    }
   ],
   "source": [
    "import gensim\n",
    "from gensim.utils import simple_preprocess\n",
    "import nltk\n",
    "nltk.download('stopwords')\n",
    "from nltk.corpus import stopwords\n",
    "stop_words = stopwords.words('english')\n",
    "stop_words.extend(['http','https','000','rs','100','150','10','per','get','every','spent','spends','point','points','credit',\n",
    "                     'card','20','reward','earn','lakh','annual','payback', 'cashback','rewards','enjoy','purchases','redeem','except fuel',\n",
    "                     'bank','5x','categories','icici','month','spend','select','non fuel','redemption','upto','50','200','500',\n",
    "                     '60','15','10x','except','fuel','non','convert','bonus','via','25','year','maximum','worth','instantly','payments',\n",
    "                     'lakhs','sbi','axis','hdfc','day'])\n",
    "\n",
    "def sent_to_words(sentences):\n",
    "    for sentence in sentences:\n",
    "        # deacc=True removes punctuations\n",
    "        yield(gensim.utils.simple_preprocess(str(sentence), deacc=True))\n",
    "def remove_stopwords(texts):\n",
    "    return [[word for word in simple_preprocess(str(doc)) \n",
    "             if word not in stop_words] for doc in texts]\n",
    "data = preprocess_cashback\n",
    "data_words = list(sent_to_words(data))\n",
    "# remove stop words\n",
    "data_words = remove_stopwords(data_words)\n",
    "print(data_words[:1][0][:30])"
   ]
  },
  {
   "cell_type": "code",
   "execution_count": 152,
   "metadata": {},
   "outputs": [
    {
     "name": "stdout",
     "output_type": "stream",
     "text": [
      "['flipkart', 'myntra', 'preferred', 'merchants']\n"
     ]
    }
   ],
   "source": [
    "# Build the bigram and trigram models\n",
    "bigram = gensim.models.Phrases(data_words, min_count=5, threshold=100) # higher threshold fewer phrases.\n",
    "trigram = gensim.models.Phrases(bigram[data_words], threshold=100)  \n",
    "\n",
    "# Faster way to get a sentence clubbed as a trigram/bigram\n",
    "bigram_mod = gensim.models.phrases.Phraser(bigram)\n",
    "trigram_mod = gensim.models.phrases.Phraser(trigram)\n",
    "\n",
    "# See trigram example\n",
    "print(trigram_mod[bigram_mod[data_words[0]]])"
   ]
  },
  {
   "cell_type": "code",
   "execution_count": 153,
   "metadata": {},
   "outputs": [],
   "source": [
    "# Define functions for stopwords, bigrams, trigrams and lemmatization\n",
    "def remove_stopwords(texts):\n",
    "    return [[word for word in simple_preprocess(str(doc)) if word not in stop_words] for doc in texts]\n",
    "\n",
    "def make_bigrams(texts):\n",
    "    return [bigram_mod[doc] for doc in texts]\n",
    "\n",
    "def make_trigrams(texts):\n",
    "    return [trigram_mod[bigram_mod[doc]] for doc in texts]\n",
    "\n",
    "def lemmatization(texts, allowed_postags=['NOUN', 'ADJ', 'VERB', 'ADV']):\n",
    "    \"\"\"https://spacy.io/api/annotation\"\"\"\n",
    "    texts_out = []\n",
    "    for sent in texts:\n",
    "        doc = nlp(\" \".join(sent)) \n",
    "        texts_out.append([token.lemma_ for token in doc if token.pos_ in allowed_postags])\n",
    "    return texts_out"
   ]
  },
  {
   "cell_type": "code",
   "execution_count": 154,
   "metadata": {},
   "outputs": [],
   "source": [
    "#conda install -c conda-forge spacy  #one time run in cmd prompt\n",
    "#python -m spacy download en #one time run in cmd prompt"
   ]
  },
  {
   "cell_type": "code",
   "execution_count": 155,
   "metadata": {},
   "outputs": [],
   "source": [
    "#spacy.cli.download(\"en_core_web_sm\")"
   ]
  },
  {
   "cell_type": "code",
   "execution_count": 156,
   "metadata": {},
   "outputs": [
    {
     "name": "stdout",
     "output_type": "stream",
     "text": [
      "[['flipkart', 'myntra', 'prefer', 'merchant']]\n"
     ]
    }
   ],
   "source": [
    "# Remove Stop Words\n",
    "data_words_nostops = remove_stopwords(data_words)\n",
    "\n",
    "# Form Bigrams\n",
    "data_words_bigrams = make_bigrams(data_words_nostops)\n",
    "\n",
    "# Initialize spacy 'en' model, keeping only tagger component (for efficiency)\n",
    "# python3 -m spacy download en\n",
    "nlp = spacy.load('en_core_web_sm', disable=['parser', 'ner'])\n",
    "\n",
    "# Do lemmatization keeping only noun, adj, vb, adv\n",
    "data_lemmatized = lemmatization(data_words_bigrams, allowed_postags=['NOUN', 'ADJ', 'VERB', 'ADV'])\n",
    "\n",
    "print(data_lemmatized[:1])"
   ]
  },
  {
   "cell_type": "code",
   "execution_count": null,
   "metadata": {},
   "outputs": [],
   "source": []
  },
  {
   "cell_type": "code",
   "execution_count": 157,
   "metadata": {},
   "outputs": [
    {
     "name": "stdout",
     "output_type": "stream",
     "text": [
      "[[(0, 1), (1, 1), (2, 1), (3, 1)]]\n"
     ]
    }
   ],
   "source": [
    "import gensim.corpora as corpora\n",
    "# Create Dictionary\n",
    "id2word = corpora.Dictionary(data_lemmatized)\n",
    "# Create Corpus\n",
    "texts = data_lemmatized\n",
    "# Term Document Frequency\n",
    "corpus = [id2word.doc2bow(text) for text in texts]\n",
    "# View\n",
    "print(corpus[:1])\n"
   ]
  },
  {
   "cell_type": "code",
   "execution_count": 158,
   "metadata": {},
   "outputs": [
    {
     "data": {
      "text/plain": [
       "'flipkart'"
      ]
     },
     "execution_count": 158,
     "metadata": {},
     "output_type": "execute_result"
    }
   ],
   "source": [
    "id2word[0]"
   ]
  },
  {
   "cell_type": "code",
   "execution_count": 159,
   "metadata": {},
   "outputs": [
    {
     "data": {
      "text/plain": [
       "[[('flipkart', 1), ('merchant', 1), ('myntra', 1), ('prefer', 1)]]"
      ]
     },
     "execution_count": 159,
     "metadata": {},
     "output_type": "execute_result"
    }
   ],
   "source": [
    "# Human readable format of corpus (term-frequency)\n",
    "[[(id2word[id], freq) for id, freq in cp] for cp in corpus[:1]]"
   ]
  },
  {
   "cell_type": "code",
   "execution_count": 160,
   "metadata": {},
   "outputs": [
    {
     "name": "stdout",
     "output_type": "stream",
     "text": [
      "[(0,\n",
      "  '0.076*\"complimentary\" + 0.052*\"cash\" + 0.051*\"golf\" + 0.051*\"classified\" + '\n",
      "  '0.051*\"carry\" + 0.038*\"quarter\" + 0.027*\"good\" + 0.026*\"loyalty\" + '\n",
      "  '0.026*\"program\" + 0.026*\"office\"'),\n",
      " (1,\n",
      "  '0.096*\"grocery\" + 0.084*\"hotel\" + 0.079*\"booking\" + 0.074*\"movie\" + '\n",
      "  '0.065*\"dine\" + 0.047*\"utility\" + 0.033*\"value\" + 0.029*\"dining\" + '\n",
      "  '0.029*\"mile\" + 0.026*\"ticket\"'),\n",
      " (2,\n",
      "  '0.117*\"retail\" + 0.077*\"landmark\" + 0.045*\"mobile\" + 0.032*\"billing\" + '\n",
      "  '0.032*\"max\" + 0.031*\"call\" + 0.026*\"instant\" + 0.026*\"convert\" + '\n",
      "  '0.026*\"last\" + 0.026*\"number\"'),\n",
      " (3,\n",
      "  '0.195*\"discount\" + 0.109*\"flat\" + 0.087*\"com\" + 0.067*\"flight\" + '\n",
      "  '0.057*\"etihad\" + 0.034*\"guest\" + 0.023*\"class\" + 0.012*\"economy\" + '\n",
      "  '0.012*\"business\" + 0.012*\"direct\"'),\n",
      " (4,\n",
      "  '0.186*\"store\" + 0.129*\"departmental\" + 0.060*\"bill\" + 0.028*\"dine\" + '\n",
      "  '0.026*\"birthday\" + 0.024*\"gift\" + 0.022*\"brand\" + 0.022*\"voucher\" + '\n",
      "  '0.022*\"shopper\" + 0.022*\"bata\"')]\n"
     ]
    },
    {
     "data": {
      "text/plain": [
       "<gensim.interfaces.TransformedCorpus at 0x7fa655ac7a30>"
      ]
     },
     "execution_count": 160,
     "metadata": {},
     "output_type": "execute_result"
    }
   ],
   "source": [
    "from pprint import pprint\n",
    "# number of topics\n",
    "num_topics = 5\n",
    "# Build LDA model\n",
    "lda_model = gensim.models.LdaModel(corpus=corpus,\n",
    "                                       id2word=id2word,\n",
    "                                       num_topics=num_topics,\n",
    "                                       random_state=100,\n",
    "                                           update_every=1,\n",
    "                                           chunksize=5,\n",
    "                                           passes=10,\n",
    "                                           alpha='auto',\n",
    "                                           per_word_topics=True)\n",
    "# Print the Keyword in the 6 topics\n",
    "pprint(lda_model.print_topics())\n",
    "doc_lda = lda_model[corpus]\n",
    "doc_lda"
   ]
  },
  {
   "cell_type": "code",
   "execution_count": 161,
   "metadata": {},
   "outputs": [
    {
     "name": "stdout",
     "output_type": "stream",
     "text": [
      "\n",
      "Perplexity:  -6.022204497143374\n",
      "\n",
      "Coherence Score:  0.6154586355925609\n"
     ]
    }
   ],
   "source": [
    "# Compute Perplexity\n",
    "print('\\nPerplexity: ', lda_model.log_perplexity(corpus))  # a measure of how good the model is. lower the better.\n",
    "\n",
    "# Compute Coherence Score\n",
    "coherence_model_lda = CoherenceModel(model=lda_model, texts=data_lemmatized, dictionary=id2word, coherence='c_v')\n",
    "coherence_lda = coherence_model_lda.get_coherence()\n",
    "print('\\nCoherence Score: ', coherence_lda)"
   ]
  },
  {
   "cell_type": "code",
   "execution_count": 162,
   "metadata": {},
   "outputs": [],
   "source": [
    "#pip install pyldavis"
   ]
  },
  {
   "cell_type": "code",
   "execution_count": 163,
   "metadata": {},
   "outputs": [],
   "source": [
    "import pickle \n",
    "import pyLDAvis\n",
    "import pyLDAvis.gensim_models as gensimvis"
   ]
  },
  {
   "cell_type": "code",
   "execution_count": 164,
   "metadata": {},
   "outputs": [],
   "source": [
    "# Visualize the topics\n",
    "pyLDAvis.enable_notebook()\n"
   ]
  },
  {
   "cell_type": "code",
   "execution_count": 165,
   "metadata": {},
   "outputs": [
    {
     "data": {
      "text/html": [
       "\n",
       "<link rel=\"stylesheet\" type=\"text/css\" href=\"https://cdn.jsdelivr.net/gh/bmabey/pyLDAvis@3.3.1/pyLDAvis/js/ldavis.v1.0.0.css\">\n",
       "\n",
       "\n",
       "<div id=\"ldavis_el67441403524836112487045595155\"></div>\n",
       "<script type=\"text/javascript\">\n",
       "\n",
       "var ldavis_el67441403524836112487045595155_data = {\"mdsDat\": {\"x\": [0.24123161015335476, 0.12945405089272952, -0.01315443420029418, -0.0781671570387669, -0.2793640698070236], \"y\": [0.23424301752070875, -0.2749692771406366, -0.071886945081866, 0.04773193321721765, 0.06488127148457631], \"topics\": [1, 2, 3, 4, 5], \"cluster\": [1, 1, 1, 1, 1], \"Freq\": [33.612767122012436, 23.249225814073583, 22.333479622632318, 11.593988723820642, 9.21053871746102]}, \"tinfo\": {\"Term\": [\"store\", \"discount\", \"departmental\", \"retail\", \"grocery\", \"flat\", \"booking\", \"landmark\", \"hotel\", \"movie\", \"com\", \"bill\", \"flight\", \"complimentary\", \"dine\", \"utility\", \"mobile\", \"etihad\", \"cash\", \"golf\", \"carry\", \"classified\", \"value\", \"billing\", \"max\", \"call\", \"quarter\", \"guest\", \"dining\", \"last\", \"grocery\", \"movie\", \"booking\", \"utility\", \"hotel\", \"value\", \"dining\", \"ticket\", \"instruction\", \"stand\", \"air\", \"back\", \"mile\", \"irctc\", \"co\", \"book\", \"www\", \"online\", \"railway\", \"international\", \"transaction\", \"charge\", \"save\", \"include\", \"android\", \"buy\", \"airindia\", \"annually\", \"equal\", \"other\", \"dine\", \"com\", \"departmental\", \"store\", \"bill\", \"gift\", \"brand\", \"voucher\", \"bata\", \"shopper\", \"stop\", \"yatra\", \"spending\", \"follow\", \"hush\", \"puppy\", \"westside\", \"birthday\", \"achieve\", \"accrue\", \"travel\", \"pay\", \"cap\", \"limit\", \"waiver\", \"outstanding\", \"auto\", \"continue\", \"cumulative\", \"policy\", \"top\", \"surcharge\", \"supply\", \"dine\", \"retail\", \"landmark\", \"mobile\", \"billing\", \"max\", \"call\", \"approach\", \"cashier\", \"centre\", \"convert\", \"helpline\", \"instant\", \"last\", \"lmr\", \"number\", \"register\", \"share\", \"spar\", \"lifestyle\", \"home\", \"fabfamily\", \"shopping\", \"account\", \"credit\", \"partner\", \"center\", \"fabindia\", \"multiple\", \"place\", \"ola\", \"discount\", \"flat\", \"flight\", \"etihad\", \"guest\", \"class\", \"economy\", \"business\", \"cv\", \"airway\", \"direct\", \"offline\", \"big\", \"wallet\", \"option\", \"com\", \"accessory\", \"apparel\", \"backpack\", \"bag\", \"bazaar\", \"expenditure\", \"fashion\", \"fbb\", \"fbbonline\", \"food\", \"footwear\", \"less\", \"outlet\", \"round\", \"mall\", \"million\", \"available\", \"complimentary\", \"cash\", \"carry\", \"classified\", \"golf\", \"complimentary\", \"quarter\", \"good\", \"loyalty\", \"program\", \"first\", \"office\", \"day\", \"access\", \"bookmyad\", \"coaching\", \"course\", \"display\", \"lalit\", \"lesson\", \"printvenue\", \"privilege\", \"rate\", \"room\", \"sarovar\", \"text\", \"fee\", \"available\", \"inr\", \"exclusive\", \"cycle\", \"supply\"], \"Freq\": [64.0, 33.0, 44.0, 38.0, 48.0, 19.0, 39.0, 25.0, 43.0, 37.0, 24.0, 21.0, 12.0, 11.0, 42.0, 23.0, 15.0, 10.0, 7.0, 7.0, 7.0, 7.0, 16.0, 10.0, 10.0, 10.0, 6.0, 6.0, 14.0, 9.0, 47.835775611844944, 36.46230179678979, 38.91995670105363, 23.077595127672424, 41.87576872338308, 16.145081258256482, 14.245947515576802, 12.949505796481962, 12.247466965111991, 12.247466965111991, 11.742296957371632, 11.326674735512425, 14.165022241006312, 10.58500301157314, 9.224270621767609, 10.09852511601433, 7.723505767026486, 8.401108454903744, 6.25716631408882, 6.423030759064844, 6.003942725387182, 5.432384367334316, 4.361139150401222, 3.6083517562232497, 3.462414574856215, 2.5636509823782663, 2.6539938825614953, 2.6539938825614953, 2.6539938825614953, 2.6539938825614953, 32.328257818707186, 9.406074753632108, 44.28075921933325, 63.747511841877184, 20.53220356738074, 8.119407448838961, 7.634424037977116, 7.46587015406015, 7.384051439947759, 7.384051439947759, 7.384051439947759, 7.384051439947759, 7.211304803638499, 7.034776130931498, 7.034776130931498, 7.034776130931498, 7.034776130931498, 8.891425768677834, 5.368374868609116, 4.826469286900335, 3.8519670236224877, 3.0235618051037636, 2.9414435174276936, 2.5216496135208684, 2.395040180391316, 2.292433200770803, 2.4196678100740234, 2.4196678100740234, 2.4196678100740234, 2.4196678100740234, 2.4196678100740234, 1.783875138946344, 6.111558753881727, 9.601610571974408, 38.45157118912433, 25.413266546307728, 14.9777435613751, 10.507146162480336, 10.506820959580429, 10.163020135341561, 8.627432290465604, 8.627432290465604, 8.627432290465604, 8.627432290465604, 8.627432290465604, 8.627432290465604, 8.627432290465604, 8.627432290465604, 8.627432290465604, 8.627432290465604, 8.627432290465604, 8.627432290465604, 7.678926491296669, 7.519982039991433, 4.733062523505512, 2.756282028567656, 2.0825987574107274, 1.6293485962444183, 2.381677433418306, 1.5604554356823903, 1.5604554356823903, 1.5604554356823903, 1.5604554356823903, 1.1288990690965406, 33.29192937479794, 18.700662042650222, 11.51789241635845, 9.672446680364514, 5.826717381184827, 3.9906107268855315, 2.077468673242529, 2.0453679888262895, 1.950080942358838, 1.9713180440745883, 1.9713180440745883, 1.4408151062457695, 1.3086983483963215, 1.1811556509979322, 0.9002745429057994, 14.897584370023692, 0.6715031152983398, 0.6715031152983398, 0.6715031152983398, 0.6715031152983398, 0.6715031152983398, 0.6715031152983398, 0.6715031152983398, 0.6715031152983398, 0.6715031152983398, 0.6715031152983398, 0.6715031152983398, 0.6715031152983398, 0.6715031152983398, 0.6715031152983398, 0.7345246362984597, 0.7345246362984597, 1.0752975151539828, 0.9120613947591215, 7.1051374418620385, 6.980785901367997, 6.980785901367997, 6.980785901367997, 10.279138583371122, 5.210372818333844, 3.63119707478094, 3.5672479267113633, 3.5573040547200447, 2.745547694909201, 3.4948646058641337, 2.8821537114039444, 3.4340563204563104, 3.4340563204563104, 3.4340563204563104, 3.4340563204563104, 3.4340563204563104, 3.4340563204563104, 3.4340563204563104, 3.4340563204563104, 3.4340563204563104, 3.4340563204563104, 3.4340563204563104, 3.4340563204563104, 3.4340563204563104, 2.125195940952425, 3.1662443848888193, 1.6633805710152199, 0.8651402704148887, 0.7531349999862086, 1.4879900122676923], \"Total\": [64.0, 33.0, 44.0, 38.0, 48.0, 19.0, 39.0, 25.0, 43.0, 37.0, 24.0, 21.0, 12.0, 11.0, 42.0, 23.0, 15.0, 10.0, 7.0, 7.0, 7.0, 7.0, 16.0, 10.0, 10.0, 10.0, 6.0, 6.0, 14.0, 9.0, 48.39495846446561, 37.03618228083816, 39.57077938947138, 23.645553996365116, 43.16883838876235, 16.691929842267875, 14.830240258666882, 13.490832036686639, 12.798857115799121, 12.798857115799121, 12.28380731306721, 11.872086264011887, 14.864910219654332, 11.126105465157368, 9.767533701978772, 10.723881641858588, 8.265345868086857, 8.99846715172125, 6.798038876731348, 6.982289954354643, 6.555977569599874, 5.977441638150464, 4.904718986163826, 4.156485958460771, 4.0068987969306225, 3.1097389233784676, 3.258445595738611, 3.258445595738611, 3.258445595738611, 3.258445595738611, 42.36363402062496, 24.77071425660465, 44.83885605622099, 64.6681662749546, 21.166899010365963, 8.669921607965597, 8.186424620679043, 8.016366308785537, 7.93512341280241, 7.93512341280241, 7.93512341280241, 7.93512341280241, 7.762127092788474, 7.5890812922421285, 7.5890812922421285, 7.5890812922421285, 7.5890812922421285, 9.608581698306885, 5.921250502992503, 5.460721567099122, 4.452821773976457, 3.574356107328864, 3.4946193132664867, 3.0978184998809297, 2.9531670727728603, 2.861136883831128, 3.0699746883086996, 3.0699746883086996, 3.0699746883086996, 3.0699746883086996, 3.0699746883086996, 2.33729605537446, 8.468799852720442, 42.36363402062496, 38.97146742731337, 25.851277564507576, 15.42644783779157, 10.948768458885688, 10.950050690089578, 10.609832146733734, 9.066225460865327, 9.066225460865327, 9.066225460865327, 9.066225460865327, 9.066225460865327, 9.066225460865327, 9.066225460865327, 9.066225460865327, 9.066225460865327, 9.066225460865327, 9.066225460865327, 9.066225460865327, 8.115898787381129, 7.95923069611919, 5.256453382802403, 3.1949160616034216, 2.5323160260525444, 2.0835271053100866, 3.1183002180457273, 2.124280685447835, 2.124280685447835, 2.124280685447835, 2.124280685447835, 1.5658328505558998, 33.887069022846156, 19.517709673662875, 12.112046996157645, 10.267506610245558, 6.433289012893864, 4.5594718550669695, 2.6418223313112303, 2.6195308914351276, 2.5078866103991735, 2.599634349024312, 2.599634349024312, 1.996843748454312, 1.867169919941739, 1.7384767548255202, 1.4694234225400118, 24.77071425660465, 1.2416626248721032, 1.2416626248721032, 1.2416626248721032, 1.2416626248721032, 1.2416626248721032, 1.2416626248721032, 1.2416626248721032, 1.2416626248721032, 1.2416626248721032, 1.2416626248721032, 1.2416626248721032, 1.2416626248721032, 1.2416626248721032, 1.2416626248721032, 1.4777394544925841, 1.4777394544925841, 4.889397517246696, 11.771549138961992, 7.811229970175102, 7.861052667782592, 7.861052667782592, 7.861052667782592, 11.771549138961992, 6.130312976622346, 4.300059071201002, 4.286981690586281, 4.294579576974825, 3.38806736695561, 4.330160562815691, 3.5889802209681267, 4.406687748715189, 4.406687748715189, 4.406687748715189, 4.406687748715189, 4.406687748715189, 4.406687748715189, 4.406687748715189, 4.406687748715189, 4.406687748715189, 4.406687748715189, 4.406687748715189, 4.406687748715189, 4.406687748715189, 2.8069438995774005, 4.889397517246696, 2.6690013536717565, 1.5242856512705363, 1.3912103376741023, 8.468799852720442], \"Category\": [\"Default\", \"Default\", \"Default\", \"Default\", \"Default\", \"Default\", \"Default\", \"Default\", \"Default\", \"Default\", \"Default\", \"Default\", \"Default\", \"Default\", \"Default\", \"Default\", \"Default\", \"Default\", \"Default\", \"Default\", \"Default\", \"Default\", \"Default\", \"Default\", \"Default\", \"Default\", \"Default\", \"Default\", \"Default\", \"Default\", \"Topic1\", \"Topic1\", \"Topic1\", \"Topic1\", \"Topic1\", \"Topic1\", \"Topic1\", \"Topic1\", \"Topic1\", \"Topic1\", \"Topic1\", \"Topic1\", \"Topic1\", \"Topic1\", \"Topic1\", \"Topic1\", \"Topic1\", \"Topic1\", \"Topic1\", \"Topic1\", \"Topic1\", \"Topic1\", \"Topic1\", \"Topic1\", \"Topic1\", \"Topic1\", \"Topic1\", \"Topic1\", \"Topic1\", \"Topic1\", \"Topic1\", \"Topic1\", \"Topic2\", \"Topic2\", \"Topic2\", \"Topic2\", \"Topic2\", \"Topic2\", \"Topic2\", \"Topic2\", \"Topic2\", \"Topic2\", \"Topic2\", \"Topic2\", \"Topic2\", \"Topic2\", \"Topic2\", \"Topic2\", \"Topic2\", \"Topic2\", \"Topic2\", \"Topic2\", \"Topic2\", \"Topic2\", \"Topic2\", \"Topic2\", \"Topic2\", \"Topic2\", \"Topic2\", \"Topic2\", \"Topic2\", \"Topic2\", \"Topic2\", \"Topic2\", \"Topic3\", \"Topic3\", \"Topic3\", \"Topic3\", \"Topic3\", \"Topic3\", \"Topic3\", \"Topic3\", \"Topic3\", \"Topic3\", \"Topic3\", \"Topic3\", \"Topic3\", \"Topic3\", \"Topic3\", \"Topic3\", \"Topic3\", \"Topic3\", \"Topic3\", \"Topic3\", \"Topic3\", \"Topic3\", \"Topic3\", \"Topic3\", \"Topic3\", \"Topic3\", \"Topic3\", \"Topic3\", \"Topic3\", \"Topic3\", \"Topic4\", \"Topic4\", \"Topic4\", \"Topic4\", \"Topic4\", \"Topic4\", \"Topic4\", \"Topic4\", \"Topic4\", \"Topic4\", \"Topic4\", \"Topic4\", \"Topic4\", \"Topic4\", \"Topic4\", \"Topic4\", \"Topic4\", \"Topic4\", \"Topic4\", \"Topic4\", \"Topic4\", \"Topic4\", \"Topic4\", \"Topic4\", \"Topic4\", \"Topic4\", \"Topic4\", \"Topic4\", \"Topic4\", \"Topic4\", \"Topic4\", \"Topic4\", \"Topic4\", \"Topic4\", \"Topic5\", \"Topic5\", \"Topic5\", \"Topic5\", \"Topic5\", \"Topic5\", \"Topic5\", \"Topic5\", \"Topic5\", \"Topic5\", \"Topic5\", \"Topic5\", \"Topic5\", \"Topic5\", \"Topic5\", \"Topic5\", \"Topic5\", \"Topic5\", \"Topic5\", \"Topic5\", \"Topic5\", \"Topic5\", \"Topic5\", \"Topic5\", \"Topic5\", \"Topic5\", \"Topic5\", \"Topic5\", \"Topic5\", \"Topic5\", \"Topic5\"], \"logprob\": [30.0, 29.0, 28.0, 27.0, 26.0, 25.0, 24.0, 23.0, 22.0, 21.0, 20.0, 19.0, 18.0, 17.0, 16.0, 15.0, 14.0, 13.0, 12.0, 11.0, 10.0, 9.0, 8.0, 7.0, 6.0, 5.0, 4.0, 3.0, 2.0, 1.0, -2.3384, -2.6099, -2.5446, -3.0673, -2.4714, -3.4245, -3.5497, -3.6451, -3.7008, -3.7008, -3.743, -3.779, -3.5554, -3.8467, -3.9843, -3.8938, -4.1619, -4.0778, -4.3724, -4.3463, -4.4137, -4.5138, -4.7334, -4.9229, -4.9642, -5.2647, -5.2301, -5.2301, -5.2301, -5.2301, -2.7302, -3.9648, -2.047, -1.6826, -2.8155, -3.7433, -3.8048, -3.8272, -3.8382, -3.8382, -3.8382, -3.8382, -3.8619, -3.8866, -3.8866, -3.8866, -3.8866, -3.6524, -4.157, -4.2634, -4.4889, -4.7311, -4.7586, -4.9126, -4.9641, -5.0079, -4.9539, -4.9539, -4.9539, -4.9539, -4.9539, -5.2587, -4.0273, -3.5756, -2.1479, -2.5621, -3.0908, -3.4453, -3.4453, -3.4786, -3.6424, -3.6424, -3.6424, -3.6424, -3.6424, -3.6424, -3.6424, -3.6424, -3.6424, -3.6424, -3.6424, -3.6424, -3.7589, -3.7798, -4.2428, -4.7834, -5.0637, -5.3091, -4.9295, -5.3524, -5.3524, -5.3524, -5.3524, -5.6761, -1.6364, -2.2132, -2.6978, -2.8724, -3.3793, -3.7578, -4.4106, -4.4262, -4.4739, -4.463, -4.463, -4.7765, -4.8727, -4.9752, -5.2468, -2.4405, -5.54, -5.54, -5.54, -5.54, -5.54, -5.54, -5.54, -5.54, -5.54, -5.54, -5.54, -5.54, -5.54, -5.54, -5.4503, -5.4503, -5.0691, -5.2338, -2.9508, -2.9684, -2.9684, -2.9684, -2.5815, -3.2609, -3.622, -3.6398, -3.6426, -3.9016, -3.6603, -3.8531, -3.6778, -3.6778, -3.6778, -3.6778, -3.6778, -3.6778, -3.6778, -3.6778, -3.6778, -3.6778, -3.6778, -3.6778, -3.6778, -4.1577, -3.759, -4.4027, -5.0565, -5.1951, -4.5142], \"loglift\": [30.0, 29.0, 28.0, 27.0, 26.0, 25.0, 24.0, 23.0, 22.0, 21.0, 20.0, 19.0, 18.0, 17.0, 16.0, 15.0, 14.0, 13.0, 12.0, 11.0, 10.0, 9.0, 8.0, 7.0, 6.0, 5.0, 4.0, 3.0, 2.0, 1.0, 1.0786, 1.0746, 1.0737, 1.066, 1.0599, 1.057, 1.0501, 1.0493, 1.0462, 1.0462, 1.0452, 1.0432, 1.042, 1.0404, 1.033, 1.0302, 1.0225, 1.0216, 1.0074, 1.0068, 1.0023, 0.9946, 0.9728, 0.9488, 0.9442, 0.8972, 0.8851, 0.8851, 0.8851, 0.8851, 0.8199, 0.122, 1.4464, 1.4446, 1.4285, 1.3933, 1.3891, 1.3878, 1.3869, 1.3869, 1.3869, 1.3869, 1.3853, 1.3831, 1.3831, 1.3831, 1.3831, 1.3813, 1.3609, 1.3354, 1.3139, 1.2915, 1.2866, 1.2531, 1.2494, 1.2373, 1.2209, 1.2209, 1.2209, 1.2209, 1.2209, 1.1887, 1.1327, -0.0255, 1.4857, 1.482, 1.4696, 1.4579, 1.4578, 1.4561, 1.4495, 1.4495, 1.4495, 1.4495, 1.4495, 1.4495, 1.4495, 1.4495, 1.4495, 1.4495, 1.4495, 1.4495, 1.4437, 1.4423, 1.3942, 1.3514, 1.3036, 1.2532, 1.2296, 1.1906, 1.1906, 1.1906, 1.1906, 1.1719, 2.137, 2.1119, 2.1044, 2.095, 2.0557, 2.0214, 1.9144, 1.9073, 1.9031, 1.878, 1.878, 1.8283, 1.7993, 1.7682, 1.6648, 1.6462, 1.54, 1.54, 1.54, 1.54, 1.54, 1.54, 1.54, 1.54, 1.54, 1.54, 1.54, 1.54, 1.54, 1.54, 1.4556, 1.4556, 0.6402, -0.4031, 2.2901, 2.2661, 2.2661, 2.2661, 2.2493, 2.2222, 2.2158, 2.201, 2.1965, 2.1745, 2.1705, 2.1655, 2.1354, 2.1354, 2.1354, 2.1354, 2.1354, 2.1354, 2.1354, 2.1354, 2.1354, 2.1354, 2.1354, 2.1354, 2.1354, 2.1066, 1.9503, 1.912, 1.8184, 1.7711, 0.6459]}, \"token.table\": {\"Topic\": [5, 4, 3, 2, 2, 1, 1, 4, 1, 1, 4, 3, 2, 4, 5, 1, 4, 4, 2, 4, 4, 2, 3, 2, 1, 1, 5, 2, 4, 1, 3, 2, 5, 5, 3, 3, 3, 1, 4, 5, 1, 5, 1, 4, 4, 5, 2, 3, 5, 3, 2, 4, 5, 5, 2, 1, 2, 1, 4, 4, 5, 4, 1, 4, 5, 4, 3, 3, 4, 4, 4, 5, 5, 4, 4, 2, 4, 4, 2, 5, 5, 1, 4, 3, 3, 1, 5, 2, 1, 5, 3, 1, 1, 1, 5, 3, 3, 4, 5, 3, 2, 3, 5, 4, 3, 1, 4, 3, 1, 3, 3, 5, 4, 3, 1, 4, 1, 4, 2, 3, 2, 3, 2, 5, 5, 5, 2, 5, 1, 5, 3, 3, 5, 4, 5, 1, 3, 2, 3, 3, 2, 1, 2, 2, 3, 2, 5, 2, 5, 1, 2, 1, 2, 1, 1, 2, 2, 4, 2, 1, 2], \"Freq\": [0.6807834298844246, 0.8053717491118044, 0.7897908394623495, 0.9156299105460766, 0.8444162255039002, 0.9768958185492455, 0.9206843913316811, 0.7693389652089474, 0.7487087026750138, 0.9206843913316811, 0.8053717491118044, 0.9926953657670227, 0.6514711693280552, 0.20452417633719364, 0.6135725290115809, 0.9265431328059449, 0.8053717491118044, 0.8053717491118044, 0.8821538917348537, 0.8053717491118044, 0.5355698960870164, 0.9921150939358557, 1.0046792058217957, 0.9366626920168538, 0.9324981694097539, 0.9855757354725428, 0.6807834298844246, 0.9772275896600658, 0.7634954817823456, 0.964711210142604, 0.9425219797731228, 0.8584626052432142, 0.8904659841153979, 0.8961456808629952, 0.9926953657670227, 0.9414951676116969, 0.9926953657670227, 0.8364782632235113, 0.8772945918187377, 0.8904659841153979, 0.9214199074815294, 0.6807834298844246, 0.363332276444161, 0.6055537940736017, 0.0849505862138532, 0.8495058621385319, 0.6514711693280552, 0.9926953657670227, 0.6807834298844246, 0.9599107181772635, 0.6514711693280552, 0.7974842210596058, 0.7187985690732085, 0.8358920404389274, 0.9812917605398052, 0.7553648486440193, 0.23605151520125606, 0.9440170729411019, 0.7693389652089474, 0.9738227870268713, 0.6807834298844246, 0.7570531811680647, 0.9206843913316811, 0.9739462928634861, 0.6560450130633133, 0.8053717491118044, 0.9512117079471409, 0.9414951676116969, 0.8053717491118044, 0.8053717491118044, 0.8053717491118044, 0.7125186934805181, 0.8854605517173312, 0.9734748757759487, 0.9907491280216144, 0.9223777859852007, 0.8053717491118044, 0.8053717491118044, 0.9227303730924051, 0.8904659841153979, 0.9302197792559171, 0.9918388510498338, 0.9326489122398437, 0.9926953657670227, 1.0051222668920363, 0.9729240250053468, 0.023164857738222543, 0.9223777859852007, 0.9623513804630484, 0.749343943662146, 0.9926953657670227, 0.9375837148136454, 0.8593169345907758, 0.9886658035417442, 0.6807834298844246, 0.9670701936342081, 0.9926953657670227, 0.8053717491118044, 0.6807834298844246, 0.9857195376116158, 0.9684234244566976, 0.9926953657670227, 0.9330574023172387, 0.6767092784589507, 1.0045615596972195, 0.9418153082074623, 0.6767092784589507, 0.9723560574491515, 0.9720224327393954, 0.9414951676116969, 0.9926953657670227, 0.6928149560461673, 0.5007903100951517, 0.6386377700818969, 0.8890403071004975, 0.6805390363734796, 0.9206843913316811, 0.8053717491118044, 0.6990228294572031, 0.6413750633841862, 0.8393120075106105, 0.9414951676116969, 0.6514711693280552, 0.6807834298844246, 0.6807834298844246, 0.9314066553675711, 0.9223777859852007, 0.8156190424644321, 0.8826074855995729, 0.6807834298844246, 0.9926953657670227, 0.9750723416015761, 0.6807834298844246, 0.8053717491118044, 0.6807834298844246, 0.8155411168884433, 0.9926953657670227, 0.8821538917348537, 0.938991805153842, 0.9926953657670227, 0.9018146593481392, 0.9375837148136454, 0.8821538917348537, 0.9896677714331081, 0.015463558928642315, 0.7084829142670803, 0.11808048571118006, 0.8556896313589074, 0.6807834298844246, 0.9636173636027873, 0.6514711693280552, 0.9151953215676107, 0.8983067823143349, 0.9726987155190209, 0.9585470434631383, 0.8732135895946209, 0.677239028715741, 0.5752162041996147, 0.9223777859852007, 0.9678965802131307, 0.8821538917348537], \"Term\": [\"access\", \"accessory\", \"account\", \"accrue\", \"achieve\", \"air\", \"airindia\", \"airway\", \"android\", \"annually\", \"apparel\", \"approach\", \"auto\", \"available\", \"available\", \"back\", \"backpack\", \"bag\", \"bata\", \"bazaar\", \"big\", \"bill\", \"billing\", \"birthday\", \"book\", \"booking\", \"bookmyad\", \"brand\", \"business\", \"buy\", \"call\", \"cap\", \"carry\", \"cash\", \"cashier\", \"center\", \"centre\", \"charge\", \"class\", \"classified\", \"co\", \"coaching\", \"com\", \"com\", \"complimentary\", \"complimentary\", \"continue\", \"convert\", \"course\", \"credit\", \"cumulative\", \"cv\", \"cycle\", \"day\", \"departmental\", \"dine\", \"dine\", \"dining\", \"direct\", \"discount\", \"display\", \"economy\", \"equal\", \"etihad\", \"exclusive\", \"expenditure\", \"fabfamily\", \"fabindia\", \"fashion\", \"fbb\", \"fbbonline\", \"fee\", \"first\", \"flat\", \"flight\", \"follow\", \"food\", \"footwear\", \"gift\", \"golf\", \"good\", \"grocery\", \"guest\", \"helpline\", \"home\", \"hotel\", \"hotel\", \"hush\", \"include\", \"inr\", \"instant\", \"instruction\", \"international\", \"irctc\", \"lalit\", \"landmark\", \"last\", \"less\", \"lesson\", \"lifestyle\", \"limit\", \"lmr\", \"loyalty\", \"mall\", \"max\", \"mile\", \"million\", \"mobile\", \"movie\", \"multiple\", \"number\", \"office\", \"offline\", \"ola\", \"online\", \"option\", \"other\", \"outlet\", \"outstanding\", \"partner\", \"pay\", \"place\", \"policy\", \"printvenue\", \"privilege\", \"program\", \"puppy\", \"quarter\", \"railway\", \"rate\", \"register\", \"retail\", \"room\", \"round\", \"sarovar\", \"save\", \"share\", \"shopper\", \"shopping\", \"spar\", \"spending\", \"stand\", \"stop\", \"store\", \"store\", \"supply\", \"supply\", \"surcharge\", \"text\", \"ticket\", \"top\", \"transaction\", \"travel\", \"utility\", \"value\", \"voucher\", \"waiver\", \"wallet\", \"westside\", \"www\", \"yatra\"]}, \"R\": 30, \"lambda.step\": 0.01, \"plot.opts\": {\"xlab\": \"PC1\", \"ylab\": \"PC2\"}, \"topic.order\": [2, 5, 3, 4, 1]};\n",
       "\n",
       "function LDAvis_load_lib(url, callback){\n",
       "  var s = document.createElement('script');\n",
       "  s.src = url;\n",
       "  s.async = true;\n",
       "  s.onreadystatechange = s.onload = callback;\n",
       "  s.onerror = function(){console.warn(\"failed to load library \" + url);};\n",
       "  document.getElementsByTagName(\"head\")[0].appendChild(s);\n",
       "}\n",
       "\n",
       "if(typeof(LDAvis) !== \"undefined\"){\n",
       "   // already loaded: just create the visualization\n",
       "   !function(LDAvis){\n",
       "       new LDAvis(\"#\" + \"ldavis_el67441403524836112487045595155\", ldavis_el67441403524836112487045595155_data);\n",
       "   }(LDAvis);\n",
       "}else if(typeof define === \"function\" && define.amd){\n",
       "   // require.js is available: use it to load d3/LDAvis\n",
       "   require.config({paths: {d3: \"https://d3js.org/d3.v5\"}});\n",
       "   require([\"d3\"], function(d3){\n",
       "      window.d3 = d3;\n",
       "      LDAvis_load_lib(\"https://cdn.jsdelivr.net/gh/bmabey/pyLDAvis@3.3.1/pyLDAvis/js/ldavis.v3.0.0.js\", function(){\n",
       "        new LDAvis(\"#\" + \"ldavis_el67441403524836112487045595155\", ldavis_el67441403524836112487045595155_data);\n",
       "      });\n",
       "    });\n",
       "}else{\n",
       "    // require.js not available: dynamically load d3 & LDAvis\n",
       "    LDAvis_load_lib(\"https://d3js.org/d3.v5.js\", function(){\n",
       "         LDAvis_load_lib(\"https://cdn.jsdelivr.net/gh/bmabey/pyLDAvis@3.3.1/pyLDAvis/js/ldavis.v3.0.0.js\", function(){\n",
       "                 new LDAvis(\"#\" + \"ldavis_el67441403524836112487045595155\", ldavis_el67441403524836112487045595155_data);\n",
       "            })\n",
       "         });\n",
       "}\n",
       "</script>"
      ],
      "text/plain": [
       "PreparedData(topic_coordinates=              x         y  topics  cluster       Freq\n",
       "topic                                                \n",
       "1      0.241232  0.234243       1        1  33.612767\n",
       "4      0.129454 -0.274969       2        1  23.249226\n",
       "2     -0.013154 -0.071887       3        1  22.333480\n",
       "3     -0.078167  0.047732       4        1  11.593989\n",
       "0     -0.279364  0.064881       5        1   9.210539, topic_info=             Term       Freq      Total Category  logprob  loglift\n",
       "121         store  64.000000  64.000000  Default  30.0000  30.0000\n",
       "247      discount  33.000000  33.000000  Default  29.0000  29.0000\n",
       "113  departmental  44.000000  44.000000  Default  28.0000  28.0000\n",
       "5          retail  38.000000  38.000000  Default  27.0000  27.0000\n",
       "179       grocery  48.000000  48.000000  Default  26.0000  26.0000\n",
       "..            ...        ...        ...      ...      ...      ...\n",
       "106     available   3.166244   4.889398   Topic5  -3.7590   1.9503\n",
       "315           inr   1.663381   2.669001   Topic5  -4.4027   1.9120\n",
       "240     exclusive   0.865140   1.524286   Topic5  -5.0565   1.8184\n",
       "177         cycle   0.753135   1.391210   Topic5  -5.1951   1.7711\n",
       "190        supply   1.487990   8.468800   Topic5  -4.5142   0.6459\n",
       "\n",
       "[189 rows x 6 columns], token_table=      Topic      Freq       Term\n",
       "term                            \n",
       "298       5  0.680783     access\n",
       "242       4  0.805372  accessory\n",
       "218       3  0.789791    account\n",
       "286       2  0.915630     accrue\n",
       "7         2  0.844416    achieve\n",
       "...     ...       ...        ...\n",
       "204       2  0.677239     waiver\n",
       "127       4  0.575216     wallet\n",
       "296       2  0.922378   westside\n",
       "59        1  0.967897        www\n",
       "194       2  0.882154      yatra\n",
       "\n",
       "[161 rows x 3 columns], R=30, lambda_step=0.01, plot_opts={'xlab': 'PC1', 'ylab': 'PC2'}, topic_order=[2, 5, 3, 4, 1])"
      ]
     },
     "execution_count": 165,
     "metadata": {},
     "output_type": "execute_result"
    }
   ],
   "source": [
    "vis = gensimvis.prepare(lda_model, corpus, id2word)\n",
    "vis"
   ]
  },
  {
   "cell_type": "code",
   "execution_count": 166,
   "metadata": {},
   "outputs": [
    {
     "data": {
      "text/html": [
       "\n",
       "<link rel=\"stylesheet\" type=\"text/css\" href=\"https://cdn.jsdelivr.net/gh/bmabey/pyLDAvis@3.3.1/pyLDAvis/js/ldavis.v1.0.0.css\">\n",
       "\n",
       "\n",
       "<div id=\"ldavis_el67441403524836112484009433539\"></div>\n",
       "<script type=\"text/javascript\">\n",
       "\n",
       "var ldavis_el67441403524836112484009433539_data = {\"mdsDat\": {\"x\": [0.24123161015335476, 0.12945405089272952, -0.01315443420029418, -0.0781671570387669, -0.2793640698070236], \"y\": [0.23424301752070875, -0.2749692771406366, -0.071886945081866, 0.04773193321721765, 0.06488127148457631], \"topics\": [1, 2, 3, 4, 5], \"cluster\": [1, 1, 1, 1, 1], \"Freq\": [33.612767122012436, 23.249225814073583, 22.333479622632318, 11.593988723820642, 9.21053871746102]}, \"tinfo\": {\"Term\": [\"store\", \"discount\", \"departmental\", \"retail\", \"grocery\", \"flat\", \"booking\", \"landmark\", \"hotel\", \"movie\", \"com\", \"bill\", \"flight\", \"complimentary\", \"dine\", \"utility\", \"mobile\", \"etihad\", \"cash\", \"golf\", \"carry\", \"classified\", \"value\", \"billing\", \"max\", \"call\", \"quarter\", \"guest\", \"dining\", \"last\", \"grocery\", \"movie\", \"booking\", \"utility\", \"hotel\", \"value\", \"dining\", \"ticket\", \"instruction\", \"stand\", \"air\", \"back\", \"mile\", \"irctc\", \"co\", \"book\", \"www\", \"online\", \"railway\", \"international\", \"transaction\", \"charge\", \"save\", \"include\", \"android\", \"buy\", \"airindia\", \"annually\", \"equal\", \"other\", \"dine\", \"com\", \"departmental\", \"store\", \"bill\", \"gift\", \"brand\", \"voucher\", \"bata\", \"shopper\", \"stop\", \"yatra\", \"spending\", \"follow\", \"hush\", \"puppy\", \"westside\", \"birthday\", \"achieve\", \"accrue\", \"travel\", \"pay\", \"cap\", \"limit\", \"waiver\", \"outstanding\", \"auto\", \"continue\", \"cumulative\", \"policy\", \"top\", \"surcharge\", \"supply\", \"dine\", \"retail\", \"landmark\", \"mobile\", \"billing\", \"max\", \"call\", \"approach\", \"cashier\", \"centre\", \"convert\", \"helpline\", \"instant\", \"last\", \"lmr\", \"number\", \"register\", \"share\", \"spar\", \"lifestyle\", \"home\", \"fabfamily\", \"shopping\", \"account\", \"credit\", \"partner\", \"center\", \"fabindia\", \"multiple\", \"place\", \"ola\", \"discount\", \"flat\", \"flight\", \"etihad\", \"guest\", \"class\", \"economy\", \"business\", \"cv\", \"airway\", \"direct\", \"offline\", \"big\", \"wallet\", \"option\", \"com\", \"accessory\", \"apparel\", \"backpack\", \"bag\", \"bazaar\", \"expenditure\", \"fashion\", \"fbb\", \"fbbonline\", \"food\", \"footwear\", \"less\", \"outlet\", \"round\", \"mall\", \"million\", \"available\", \"complimentary\", \"cash\", \"carry\", \"classified\", \"golf\", \"complimentary\", \"quarter\", \"good\", \"loyalty\", \"program\", \"first\", \"office\", \"day\", \"access\", \"bookmyad\", \"coaching\", \"course\", \"display\", \"lalit\", \"lesson\", \"printvenue\", \"privilege\", \"rate\", \"room\", \"sarovar\", \"text\", \"fee\", \"available\", \"inr\", \"exclusive\", \"cycle\", \"supply\"], \"Freq\": [64.0, 33.0, 44.0, 38.0, 48.0, 19.0, 39.0, 25.0, 43.0, 37.0, 24.0, 21.0, 12.0, 11.0, 42.0, 23.0, 15.0, 10.0, 7.0, 7.0, 7.0, 7.0, 16.0, 10.0, 10.0, 10.0, 6.0, 6.0, 14.0, 9.0, 47.835775611844944, 36.46230179678979, 38.91995670105363, 23.077595127672424, 41.87576872338308, 16.145081258256482, 14.245947515576802, 12.949505796481962, 12.247466965111991, 12.247466965111991, 11.742296957371632, 11.326674735512425, 14.165022241006312, 10.58500301157314, 9.224270621767609, 10.09852511601433, 7.723505767026486, 8.401108454903744, 6.25716631408882, 6.423030759064844, 6.003942725387182, 5.432384367334316, 4.361139150401222, 3.6083517562232497, 3.462414574856215, 2.5636509823782663, 2.6539938825614953, 2.6539938825614953, 2.6539938825614953, 2.6539938825614953, 32.328257818707186, 9.406074753632108, 44.28075921933325, 63.747511841877184, 20.53220356738074, 8.119407448838961, 7.634424037977116, 7.46587015406015, 7.384051439947759, 7.384051439947759, 7.384051439947759, 7.384051439947759, 7.211304803638499, 7.034776130931498, 7.034776130931498, 7.034776130931498, 7.034776130931498, 8.891425768677834, 5.368374868609116, 4.826469286900335, 3.8519670236224877, 3.0235618051037636, 2.9414435174276936, 2.5216496135208684, 2.395040180391316, 2.292433200770803, 2.4196678100740234, 2.4196678100740234, 2.4196678100740234, 2.4196678100740234, 2.4196678100740234, 1.783875138946344, 6.111558753881727, 9.601610571974408, 38.45157118912433, 25.413266546307728, 14.9777435613751, 10.507146162480336, 10.506820959580429, 10.163020135341561, 8.627432290465604, 8.627432290465604, 8.627432290465604, 8.627432290465604, 8.627432290465604, 8.627432290465604, 8.627432290465604, 8.627432290465604, 8.627432290465604, 8.627432290465604, 8.627432290465604, 8.627432290465604, 7.678926491296669, 7.519982039991433, 4.733062523505512, 2.756282028567656, 2.0825987574107274, 1.6293485962444183, 2.381677433418306, 1.5604554356823903, 1.5604554356823903, 1.5604554356823903, 1.5604554356823903, 1.1288990690965406, 33.29192937479794, 18.700662042650222, 11.51789241635845, 9.672446680364514, 5.826717381184827, 3.9906107268855315, 2.077468673242529, 2.0453679888262895, 1.950080942358838, 1.9713180440745883, 1.9713180440745883, 1.4408151062457695, 1.3086983483963215, 1.1811556509979322, 0.9002745429057994, 14.897584370023692, 0.6715031152983398, 0.6715031152983398, 0.6715031152983398, 0.6715031152983398, 0.6715031152983398, 0.6715031152983398, 0.6715031152983398, 0.6715031152983398, 0.6715031152983398, 0.6715031152983398, 0.6715031152983398, 0.6715031152983398, 0.6715031152983398, 0.6715031152983398, 0.7345246362984597, 0.7345246362984597, 1.0752975151539828, 0.9120613947591215, 7.1051374418620385, 6.980785901367997, 6.980785901367997, 6.980785901367997, 10.279138583371122, 5.210372818333844, 3.63119707478094, 3.5672479267113633, 3.5573040547200447, 2.745547694909201, 3.4948646058641337, 2.8821537114039444, 3.4340563204563104, 3.4340563204563104, 3.4340563204563104, 3.4340563204563104, 3.4340563204563104, 3.4340563204563104, 3.4340563204563104, 3.4340563204563104, 3.4340563204563104, 3.4340563204563104, 3.4340563204563104, 3.4340563204563104, 3.4340563204563104, 2.125195940952425, 3.1662443848888193, 1.6633805710152199, 0.8651402704148887, 0.7531349999862086, 1.4879900122676923], \"Total\": [64.0, 33.0, 44.0, 38.0, 48.0, 19.0, 39.0, 25.0, 43.0, 37.0, 24.0, 21.0, 12.0, 11.0, 42.0, 23.0, 15.0, 10.0, 7.0, 7.0, 7.0, 7.0, 16.0, 10.0, 10.0, 10.0, 6.0, 6.0, 14.0, 9.0, 48.39495846446561, 37.03618228083816, 39.57077938947138, 23.645553996365116, 43.16883838876235, 16.691929842267875, 14.830240258666882, 13.490832036686639, 12.798857115799121, 12.798857115799121, 12.28380731306721, 11.872086264011887, 14.864910219654332, 11.126105465157368, 9.767533701978772, 10.723881641858588, 8.265345868086857, 8.99846715172125, 6.798038876731348, 6.982289954354643, 6.555977569599874, 5.977441638150464, 4.904718986163826, 4.156485958460771, 4.0068987969306225, 3.1097389233784676, 3.258445595738611, 3.258445595738611, 3.258445595738611, 3.258445595738611, 42.36363402062496, 24.77071425660465, 44.83885605622099, 64.6681662749546, 21.166899010365963, 8.669921607965597, 8.186424620679043, 8.016366308785537, 7.93512341280241, 7.93512341280241, 7.93512341280241, 7.93512341280241, 7.762127092788474, 7.5890812922421285, 7.5890812922421285, 7.5890812922421285, 7.5890812922421285, 9.608581698306885, 5.921250502992503, 5.460721567099122, 4.452821773976457, 3.574356107328864, 3.4946193132664867, 3.0978184998809297, 2.9531670727728603, 2.861136883831128, 3.0699746883086996, 3.0699746883086996, 3.0699746883086996, 3.0699746883086996, 3.0699746883086996, 2.33729605537446, 8.468799852720442, 42.36363402062496, 38.97146742731337, 25.851277564507576, 15.42644783779157, 10.948768458885688, 10.950050690089578, 10.609832146733734, 9.066225460865327, 9.066225460865327, 9.066225460865327, 9.066225460865327, 9.066225460865327, 9.066225460865327, 9.066225460865327, 9.066225460865327, 9.066225460865327, 9.066225460865327, 9.066225460865327, 9.066225460865327, 8.115898787381129, 7.95923069611919, 5.256453382802403, 3.1949160616034216, 2.5323160260525444, 2.0835271053100866, 3.1183002180457273, 2.124280685447835, 2.124280685447835, 2.124280685447835, 2.124280685447835, 1.5658328505558998, 33.887069022846156, 19.517709673662875, 12.112046996157645, 10.267506610245558, 6.433289012893864, 4.5594718550669695, 2.6418223313112303, 2.6195308914351276, 2.5078866103991735, 2.599634349024312, 2.599634349024312, 1.996843748454312, 1.867169919941739, 1.7384767548255202, 1.4694234225400118, 24.77071425660465, 1.2416626248721032, 1.2416626248721032, 1.2416626248721032, 1.2416626248721032, 1.2416626248721032, 1.2416626248721032, 1.2416626248721032, 1.2416626248721032, 1.2416626248721032, 1.2416626248721032, 1.2416626248721032, 1.2416626248721032, 1.2416626248721032, 1.2416626248721032, 1.4777394544925841, 1.4777394544925841, 4.889397517246696, 11.771549138961992, 7.811229970175102, 7.861052667782592, 7.861052667782592, 7.861052667782592, 11.771549138961992, 6.130312976622346, 4.300059071201002, 4.286981690586281, 4.294579576974825, 3.38806736695561, 4.330160562815691, 3.5889802209681267, 4.406687748715189, 4.406687748715189, 4.406687748715189, 4.406687748715189, 4.406687748715189, 4.406687748715189, 4.406687748715189, 4.406687748715189, 4.406687748715189, 4.406687748715189, 4.406687748715189, 4.406687748715189, 4.406687748715189, 2.8069438995774005, 4.889397517246696, 2.6690013536717565, 1.5242856512705363, 1.3912103376741023, 8.468799852720442], \"Category\": [\"Default\", \"Default\", \"Default\", \"Default\", \"Default\", \"Default\", \"Default\", \"Default\", \"Default\", \"Default\", \"Default\", \"Default\", \"Default\", \"Default\", \"Default\", \"Default\", \"Default\", \"Default\", \"Default\", \"Default\", \"Default\", \"Default\", \"Default\", \"Default\", \"Default\", \"Default\", \"Default\", \"Default\", \"Default\", \"Default\", \"Topic1\", \"Topic1\", \"Topic1\", \"Topic1\", \"Topic1\", \"Topic1\", \"Topic1\", \"Topic1\", \"Topic1\", \"Topic1\", \"Topic1\", \"Topic1\", \"Topic1\", \"Topic1\", \"Topic1\", \"Topic1\", \"Topic1\", \"Topic1\", \"Topic1\", \"Topic1\", \"Topic1\", \"Topic1\", \"Topic1\", \"Topic1\", \"Topic1\", \"Topic1\", \"Topic1\", \"Topic1\", \"Topic1\", \"Topic1\", \"Topic1\", \"Topic1\", \"Topic2\", \"Topic2\", \"Topic2\", \"Topic2\", \"Topic2\", \"Topic2\", \"Topic2\", \"Topic2\", \"Topic2\", \"Topic2\", \"Topic2\", \"Topic2\", \"Topic2\", \"Topic2\", \"Topic2\", \"Topic2\", \"Topic2\", \"Topic2\", \"Topic2\", \"Topic2\", \"Topic2\", \"Topic2\", \"Topic2\", \"Topic2\", \"Topic2\", \"Topic2\", \"Topic2\", \"Topic2\", \"Topic2\", \"Topic2\", \"Topic2\", \"Topic2\", \"Topic3\", \"Topic3\", \"Topic3\", \"Topic3\", \"Topic3\", \"Topic3\", \"Topic3\", \"Topic3\", \"Topic3\", \"Topic3\", \"Topic3\", \"Topic3\", \"Topic3\", \"Topic3\", \"Topic3\", \"Topic3\", \"Topic3\", \"Topic3\", \"Topic3\", \"Topic3\", \"Topic3\", \"Topic3\", \"Topic3\", \"Topic3\", \"Topic3\", \"Topic3\", \"Topic3\", \"Topic3\", \"Topic3\", \"Topic3\", \"Topic4\", \"Topic4\", \"Topic4\", \"Topic4\", \"Topic4\", \"Topic4\", \"Topic4\", \"Topic4\", \"Topic4\", \"Topic4\", \"Topic4\", \"Topic4\", \"Topic4\", \"Topic4\", \"Topic4\", \"Topic4\", \"Topic4\", \"Topic4\", \"Topic4\", \"Topic4\", \"Topic4\", \"Topic4\", \"Topic4\", \"Topic4\", \"Topic4\", \"Topic4\", \"Topic4\", \"Topic4\", \"Topic4\", \"Topic4\", \"Topic4\", \"Topic4\", \"Topic4\", \"Topic4\", \"Topic5\", \"Topic5\", \"Topic5\", \"Topic5\", \"Topic5\", \"Topic5\", \"Topic5\", \"Topic5\", \"Topic5\", \"Topic5\", \"Topic5\", \"Topic5\", \"Topic5\", \"Topic5\", \"Topic5\", \"Topic5\", \"Topic5\", \"Topic5\", \"Topic5\", \"Topic5\", \"Topic5\", \"Topic5\", \"Topic5\", \"Topic5\", \"Topic5\", \"Topic5\", \"Topic5\", \"Topic5\", \"Topic5\", \"Topic5\", \"Topic5\"], \"logprob\": [30.0, 29.0, 28.0, 27.0, 26.0, 25.0, 24.0, 23.0, 22.0, 21.0, 20.0, 19.0, 18.0, 17.0, 16.0, 15.0, 14.0, 13.0, 12.0, 11.0, 10.0, 9.0, 8.0, 7.0, 6.0, 5.0, 4.0, 3.0, 2.0, 1.0, -2.3384, -2.6099, -2.5446, -3.0673, -2.4714, -3.4245, -3.5497, -3.6451, -3.7008, -3.7008, -3.743, -3.779, -3.5554, -3.8467, -3.9843, -3.8938, -4.1619, -4.0778, -4.3724, -4.3463, -4.4137, -4.5138, -4.7334, -4.9229, -4.9642, -5.2647, -5.2301, -5.2301, -5.2301, -5.2301, -2.7302, -3.9648, -2.047, -1.6826, -2.8155, -3.7433, -3.8048, -3.8272, -3.8382, -3.8382, -3.8382, -3.8382, -3.8619, -3.8866, -3.8866, -3.8866, -3.8866, -3.6524, -4.157, -4.2634, -4.4889, -4.7311, -4.7586, -4.9126, -4.9641, -5.0079, -4.9539, -4.9539, -4.9539, -4.9539, -4.9539, -5.2587, -4.0273, -3.5756, -2.1479, -2.5621, -3.0908, -3.4453, -3.4453, -3.4786, -3.6424, -3.6424, -3.6424, -3.6424, -3.6424, -3.6424, -3.6424, -3.6424, -3.6424, -3.6424, -3.6424, -3.6424, -3.7589, -3.7798, -4.2428, -4.7834, -5.0637, -5.3091, -4.9295, -5.3524, -5.3524, -5.3524, -5.3524, -5.6761, -1.6364, -2.2132, -2.6978, -2.8724, -3.3793, -3.7578, -4.4106, -4.4262, -4.4739, -4.463, -4.463, -4.7765, -4.8727, -4.9752, -5.2468, -2.4405, -5.54, -5.54, -5.54, -5.54, -5.54, -5.54, -5.54, -5.54, -5.54, -5.54, -5.54, -5.54, -5.54, -5.54, -5.4503, -5.4503, -5.0691, -5.2338, -2.9508, -2.9684, -2.9684, -2.9684, -2.5815, -3.2609, -3.622, -3.6398, -3.6426, -3.9016, -3.6603, -3.8531, -3.6778, -3.6778, -3.6778, -3.6778, -3.6778, -3.6778, -3.6778, -3.6778, -3.6778, -3.6778, -3.6778, -3.6778, -3.6778, -4.1577, -3.759, -4.4027, -5.0565, -5.1951, -4.5142], \"loglift\": [30.0, 29.0, 28.0, 27.0, 26.0, 25.0, 24.0, 23.0, 22.0, 21.0, 20.0, 19.0, 18.0, 17.0, 16.0, 15.0, 14.0, 13.0, 12.0, 11.0, 10.0, 9.0, 8.0, 7.0, 6.0, 5.0, 4.0, 3.0, 2.0, 1.0, 1.0786, 1.0746, 1.0737, 1.066, 1.0599, 1.057, 1.0501, 1.0493, 1.0462, 1.0462, 1.0452, 1.0432, 1.042, 1.0404, 1.033, 1.0302, 1.0225, 1.0216, 1.0074, 1.0068, 1.0023, 0.9946, 0.9728, 0.9488, 0.9442, 0.8972, 0.8851, 0.8851, 0.8851, 0.8851, 0.8199, 0.122, 1.4464, 1.4446, 1.4285, 1.3933, 1.3891, 1.3878, 1.3869, 1.3869, 1.3869, 1.3869, 1.3853, 1.3831, 1.3831, 1.3831, 1.3831, 1.3813, 1.3609, 1.3354, 1.3139, 1.2915, 1.2866, 1.2531, 1.2494, 1.2373, 1.2209, 1.2209, 1.2209, 1.2209, 1.2209, 1.1887, 1.1327, -0.0255, 1.4857, 1.482, 1.4696, 1.4579, 1.4578, 1.4561, 1.4495, 1.4495, 1.4495, 1.4495, 1.4495, 1.4495, 1.4495, 1.4495, 1.4495, 1.4495, 1.4495, 1.4495, 1.4437, 1.4423, 1.3942, 1.3514, 1.3036, 1.2532, 1.2296, 1.1906, 1.1906, 1.1906, 1.1906, 1.1719, 2.137, 2.1119, 2.1044, 2.095, 2.0557, 2.0214, 1.9144, 1.9073, 1.9031, 1.878, 1.878, 1.8283, 1.7993, 1.7682, 1.6648, 1.6462, 1.54, 1.54, 1.54, 1.54, 1.54, 1.54, 1.54, 1.54, 1.54, 1.54, 1.54, 1.54, 1.54, 1.54, 1.4556, 1.4556, 0.6402, -0.4031, 2.2901, 2.2661, 2.2661, 2.2661, 2.2493, 2.2222, 2.2158, 2.201, 2.1965, 2.1745, 2.1705, 2.1655, 2.1354, 2.1354, 2.1354, 2.1354, 2.1354, 2.1354, 2.1354, 2.1354, 2.1354, 2.1354, 2.1354, 2.1354, 2.1354, 2.1066, 1.9503, 1.912, 1.8184, 1.7711, 0.6459]}, \"token.table\": {\"Topic\": [5, 4, 3, 2, 2, 1, 1, 4, 1, 1, 4, 3, 2, 4, 5, 1, 4, 4, 2, 4, 4, 2, 3, 2, 1, 1, 5, 2, 4, 1, 3, 2, 5, 5, 3, 3, 3, 1, 4, 5, 1, 5, 1, 4, 4, 5, 2, 3, 5, 3, 2, 4, 5, 5, 2, 1, 2, 1, 4, 4, 5, 4, 1, 4, 5, 4, 3, 3, 4, 4, 4, 5, 5, 4, 4, 2, 4, 4, 2, 5, 5, 1, 4, 3, 3, 1, 5, 2, 1, 5, 3, 1, 1, 1, 5, 3, 3, 4, 5, 3, 2, 3, 5, 4, 3, 1, 4, 3, 1, 3, 3, 5, 4, 3, 1, 4, 1, 4, 2, 3, 2, 3, 2, 5, 5, 5, 2, 5, 1, 5, 3, 3, 5, 4, 5, 1, 3, 2, 3, 3, 2, 1, 2, 2, 3, 2, 5, 2, 5, 1, 2, 1, 2, 1, 1, 2, 2, 4, 2, 1, 2], \"Freq\": [0.6807834298844246, 0.8053717491118044, 0.7897908394623495, 0.9156299105460766, 0.8444162255039002, 0.9768958185492455, 0.9206843913316811, 0.7693389652089474, 0.7487087026750138, 0.9206843913316811, 0.8053717491118044, 0.9926953657670227, 0.6514711693280552, 0.20452417633719364, 0.6135725290115809, 0.9265431328059449, 0.8053717491118044, 0.8053717491118044, 0.8821538917348537, 0.8053717491118044, 0.5355698960870164, 0.9921150939358557, 1.0046792058217957, 0.9366626920168538, 0.9324981694097539, 0.9855757354725428, 0.6807834298844246, 0.9772275896600658, 0.7634954817823456, 0.964711210142604, 0.9425219797731228, 0.8584626052432142, 0.8904659841153979, 0.8961456808629952, 0.9926953657670227, 0.9414951676116969, 0.9926953657670227, 0.8364782632235113, 0.8772945918187377, 0.8904659841153979, 0.9214199074815294, 0.6807834298844246, 0.363332276444161, 0.6055537940736017, 0.0849505862138532, 0.8495058621385319, 0.6514711693280552, 0.9926953657670227, 0.6807834298844246, 0.9599107181772635, 0.6514711693280552, 0.7974842210596058, 0.7187985690732085, 0.8358920404389274, 0.9812917605398052, 0.7553648486440193, 0.23605151520125606, 0.9440170729411019, 0.7693389652089474, 0.9738227870268713, 0.6807834298844246, 0.7570531811680647, 0.9206843913316811, 0.9739462928634861, 0.6560450130633133, 0.8053717491118044, 0.9512117079471409, 0.9414951676116969, 0.8053717491118044, 0.8053717491118044, 0.8053717491118044, 0.7125186934805181, 0.8854605517173312, 0.9734748757759487, 0.9907491280216144, 0.9223777859852007, 0.8053717491118044, 0.8053717491118044, 0.9227303730924051, 0.8904659841153979, 0.9302197792559171, 0.9918388510498338, 0.9326489122398437, 0.9926953657670227, 1.0051222668920363, 0.9729240250053468, 0.023164857738222543, 0.9223777859852007, 0.9623513804630484, 0.749343943662146, 0.9926953657670227, 0.9375837148136454, 0.8593169345907758, 0.9886658035417442, 0.6807834298844246, 0.9670701936342081, 0.9926953657670227, 0.8053717491118044, 0.6807834298844246, 0.9857195376116158, 0.9684234244566976, 0.9926953657670227, 0.9330574023172387, 0.6767092784589507, 1.0045615596972195, 0.9418153082074623, 0.6767092784589507, 0.9723560574491515, 0.9720224327393954, 0.9414951676116969, 0.9926953657670227, 0.6928149560461673, 0.5007903100951517, 0.6386377700818969, 0.8890403071004975, 0.6805390363734796, 0.9206843913316811, 0.8053717491118044, 0.6990228294572031, 0.6413750633841862, 0.8393120075106105, 0.9414951676116969, 0.6514711693280552, 0.6807834298844246, 0.6807834298844246, 0.9314066553675711, 0.9223777859852007, 0.8156190424644321, 0.8826074855995729, 0.6807834298844246, 0.9926953657670227, 0.9750723416015761, 0.6807834298844246, 0.8053717491118044, 0.6807834298844246, 0.8155411168884433, 0.9926953657670227, 0.8821538917348537, 0.938991805153842, 0.9926953657670227, 0.9018146593481392, 0.9375837148136454, 0.8821538917348537, 0.9896677714331081, 0.015463558928642315, 0.7084829142670803, 0.11808048571118006, 0.8556896313589074, 0.6807834298844246, 0.9636173636027873, 0.6514711693280552, 0.9151953215676107, 0.8983067823143349, 0.9726987155190209, 0.9585470434631383, 0.8732135895946209, 0.677239028715741, 0.5752162041996147, 0.9223777859852007, 0.9678965802131307, 0.8821538917348537], \"Term\": [\"access\", \"accessory\", \"account\", \"accrue\", \"achieve\", \"air\", \"airindia\", \"airway\", \"android\", \"annually\", \"apparel\", \"approach\", \"auto\", \"available\", \"available\", \"back\", \"backpack\", \"bag\", \"bata\", \"bazaar\", \"big\", \"bill\", \"billing\", \"birthday\", \"book\", \"booking\", \"bookmyad\", \"brand\", \"business\", \"buy\", \"call\", \"cap\", \"carry\", \"cash\", \"cashier\", \"center\", \"centre\", \"charge\", \"class\", \"classified\", \"co\", \"coaching\", \"com\", \"com\", \"complimentary\", \"complimentary\", \"continue\", \"convert\", \"course\", \"credit\", \"cumulative\", \"cv\", \"cycle\", \"day\", \"departmental\", \"dine\", \"dine\", \"dining\", \"direct\", \"discount\", \"display\", \"economy\", \"equal\", \"etihad\", \"exclusive\", \"expenditure\", \"fabfamily\", \"fabindia\", \"fashion\", \"fbb\", \"fbbonline\", \"fee\", \"first\", \"flat\", \"flight\", \"follow\", \"food\", \"footwear\", \"gift\", \"golf\", \"good\", \"grocery\", \"guest\", \"helpline\", \"home\", \"hotel\", \"hotel\", \"hush\", \"include\", \"inr\", \"instant\", \"instruction\", \"international\", \"irctc\", \"lalit\", \"landmark\", \"last\", \"less\", \"lesson\", \"lifestyle\", \"limit\", \"lmr\", \"loyalty\", \"mall\", \"max\", \"mile\", \"million\", \"mobile\", \"movie\", \"multiple\", \"number\", \"office\", \"offline\", \"ola\", \"online\", \"option\", \"other\", \"outlet\", \"outstanding\", \"partner\", \"pay\", \"place\", \"policy\", \"printvenue\", \"privilege\", \"program\", \"puppy\", \"quarter\", \"railway\", \"rate\", \"register\", \"retail\", \"room\", \"round\", \"sarovar\", \"save\", \"share\", \"shopper\", \"shopping\", \"spar\", \"spending\", \"stand\", \"stop\", \"store\", \"store\", \"supply\", \"supply\", \"surcharge\", \"text\", \"ticket\", \"top\", \"transaction\", \"travel\", \"utility\", \"value\", \"voucher\", \"waiver\", \"wallet\", \"westside\", \"www\", \"yatra\"]}, \"R\": 30, \"lambda.step\": 0.01, \"plot.opts\": {\"xlab\": \"PC1\", \"ylab\": \"PC2\"}, \"topic.order\": [2, 5, 3, 4, 1]};\n",
       "\n",
       "function LDAvis_load_lib(url, callback){\n",
       "  var s = document.createElement('script');\n",
       "  s.src = url;\n",
       "  s.async = true;\n",
       "  s.onreadystatechange = s.onload = callback;\n",
       "  s.onerror = function(){console.warn(\"failed to load library \" + url);};\n",
       "  document.getElementsByTagName(\"head\")[0].appendChild(s);\n",
       "}\n",
       "\n",
       "if(typeof(LDAvis) !== \"undefined\"){\n",
       "   // already loaded: just create the visualization\n",
       "   !function(LDAvis){\n",
       "       new LDAvis(\"#\" + \"ldavis_el67441403524836112484009433539\", ldavis_el67441403524836112484009433539_data);\n",
       "   }(LDAvis);\n",
       "}else if(typeof define === \"function\" && define.amd){\n",
       "   // require.js is available: use it to load d3/LDAvis\n",
       "   require.config({paths: {d3: \"https://d3js.org/d3.v5\"}});\n",
       "   require([\"d3\"], function(d3){\n",
       "      window.d3 = d3;\n",
       "      LDAvis_load_lib(\"https://cdn.jsdelivr.net/gh/bmabey/pyLDAvis@3.3.1/pyLDAvis/js/ldavis.v3.0.0.js\", function(){\n",
       "        new LDAvis(\"#\" + \"ldavis_el67441403524836112484009433539\", ldavis_el67441403524836112484009433539_data);\n",
       "      });\n",
       "    });\n",
       "}else{\n",
       "    // require.js not available: dynamically load d3 & LDAvis\n",
       "    LDAvis_load_lib(\"https://d3js.org/d3.v5.js\", function(){\n",
       "         LDAvis_load_lib(\"https://cdn.jsdelivr.net/gh/bmabey/pyLDAvis@3.3.1/pyLDAvis/js/ldavis.v3.0.0.js\", function(){\n",
       "                 new LDAvis(\"#\" + \"ldavis_el67441403524836112484009433539\", ldavis_el67441403524836112484009433539_data);\n",
       "            })\n",
       "         });\n",
       "}\n",
       "</script>"
      ],
      "text/plain": [
       "<IPython.core.display.HTML object>"
      ]
     },
     "execution_count": 166,
     "metadata": {},
     "output_type": "execute_result"
    }
   ],
   "source": [
    "pyLDAvis.display(vis)\n"
   ]
  },
  {
   "cell_type": "code",
   "execution_count": 167,
   "metadata": {},
   "outputs": [],
   "source": [
    "#type(lda_model[corpus])"
   ]
  },
  {
   "cell_type": "code",
   "execution_count": 168,
   "metadata": {},
   "outputs": [],
   "source": [
    "# #Building LDA Mallet Model\n",
    "# # Download File: http://mallet.cs.umass.edu/dist/mallet-2.0.8.zip\n",
    "# mallet_path = 'mallet-2.0.8/bin/mallet' # update this path\n",
    "# ldamallet = gensim.models.wrappers.LdaMallet(mallet_path, corpus=corpus, num_topics=5, id2word=id2word)"
   ]
  },
  {
   "cell_type": "code",
   "execution_count": 169,
   "metadata": {},
   "outputs": [],
   "source": [
    "# # Show Topics\n",
    "# pprint(ldamallet.show_topics(formatted=False))\n",
    "\n",
    "# # Compute Coherence Score\n",
    "# coherence_model_ldamallet = CoherenceModel(model=ldamallet, texts=data_lemmatized, dictionary=id2word, coherence='c_v')\n",
    "# coherence_ldamallet = coherence_model_ldamallet.get_coherence()\n",
    "# print('\\nCoherence Score: ', coherence_ldamallet)"
   ]
  },
  {
   "cell_type": "code",
   "execution_count": 197,
   "metadata": {},
   "outputs": [],
   "source": [
    "#How to find the optimal number of topics for LDA?\n",
    "#build many LDA models with different values of number of topics (k) and pick the one that gives the highest coherence value.\n",
    "\n",
    "def compute_coherence_values(dictionary, corpus, texts, limit, start=2, step=3):\n",
    "    \"\"\"\n",
    "    Compute c_v coherence for various number of topics\n",
    "\n",
    "    Parameters:\n",
    "    ----------\n",
    "    dictionary : Gensim dictionary\n",
    "    corpus : Gensim corpus\n",
    "    texts : List of input texts\n",
    "    limit : Max num of topics\n",
    "\n",
    "    Returns:\n",
    "    -------\n",
    "    model_list : List of LDA topic models\n",
    "    coherence_values : Coherence values corresponding to the LDA model with respective number of topics\n",
    "    \"\"\"\n",
    "    coherence_values = []\n",
    "    model_list = []\n",
    "    for num_topics in range(start, limit, step):\n",
    "        #print('number of topics : '+ str(num_topics))\n",
    "        model = gensim.models.LdaModel(corpus=corpus,\n",
    "                                       id2word=id2word,\n",
    "                                       num_topics=num_topics,\n",
    "                                       random_state=100,\n",
    "                                           update_every=1,\n",
    "                                           chunksize=8,\n",
    "                                           passes=20,\n",
    "                                           alpha='auto',\n",
    "                                           per_word_topics=True)\n",
    "        model_list.append(model)\n",
    "        coherencemodel = CoherenceModel(model=model, texts=texts, dictionary=dictionary, coherence='c_v')\n",
    "        print('number of topics : '+ str(num_topics)+' | coherence value : '+str(coherencemodel.get_coherence()))\n",
    "        coherence_values.append(coherencemodel.get_coherence())\n",
    "\n",
    "    return model_list, coherence_values"
   ]
  },
  {
   "cell_type": "code",
   "execution_count": 198,
   "metadata": {},
   "outputs": [
    {
     "name": "stdout",
     "output_type": "stream",
     "text": [
      "number of topics : 2 | coherence value : 0.5624517705744976\n",
      "number of topics : 3 | coherence value : 0.7146993128034199\n",
      "number of topics : 4 | coherence value : 0.7075745561385408\n",
      "number of topics : 5 | coherence value : 0.6411684116385571\n",
      "number of topics : 6 | coherence value : 0.5847103249111568\n",
      "number of topics : 7 | coherence value : 0.5651229705324011\n",
      "number of topics : 8 | coherence value : 0.5100701118978348\n",
      "number of topics : 9 | coherence value : 0.5009333327998606\n",
      "number of topics : 10 | coherence value : 0.46153632272380507\n",
      "number of topics : 11 | coherence value : 0.4847034144746326\n"
     ]
    }
   ],
   "source": [
    "# Can take a long time to run.\n",
    "model_list, coherence_values = compute_coherence_values(dictionary=id2word, corpus=corpus, texts=data_lemmatized, start=2, limit=12, step=1)"
   ]
  },
  {
   "cell_type": "code",
   "execution_count": 199,
   "metadata": {},
   "outputs": [
    {
     "data": {
      "text/plain": [
       "[<matplotlib.lines.Line2D at 0x7fa655ab2730>]"
      ]
     },
     "execution_count": 199,
     "metadata": {},
     "output_type": "execute_result"
    },
    {
     "data": {
      "text/plain": [
       "Text(0.5, 0, 'Num Topics')"
      ]
     },
     "execution_count": 199,
     "metadata": {},
     "output_type": "execute_result"
    },
    {
     "data": {
      "text/plain": [
       "Text(0, 0.5, 'Coherence score')"
      ]
     },
     "execution_count": 199,
     "metadata": {},
     "output_type": "execute_result"
    },
    {
     "data": {
      "text/plain": [
       "<matplotlib.legend.Legend at 0x7fa65bd93820>"
      ]
     },
     "execution_count": 199,
     "metadata": {},
     "output_type": "execute_result"
    },
    {
     "data": {
      "image/png": "[encoded data removed]",
      "text/plain": [
       "<Figure size 432x288 with 1 Axes>"
      ]
     },
     "metadata": {
      "needs_background": "light"
     },
     "output_type": "display_data"
    }
   ],
   "source": [
    "# Show graph\n",
    "limit=12; start=2; step=1;\n",
    "x = range(start, limit, step)\n",
    "plt.plot(x, coherence_values)\n",
    "plt.xlabel(\"Num Topics\")\n",
    "plt.ylabel(\"Coherence score\")\n",
    "plt.legend((\"coherence_values\"), loc='best')\n",
    "plt.show()"
   ]
  },
  {
   "cell_type": "code",
   "execution_count": 200,
   "metadata": {},
   "outputs": [
    {
     "name": "stdout",
     "output_type": "stream",
     "text": [
      "Num Topics = 2  has Coherence Value of 0.5625\n",
      "Num Topics = 3  has Coherence Value of 0.7147\n",
      "Num Topics = 4  has Coherence Value of 0.7076\n",
      "Num Topics = 5  has Coherence Value of 0.6412\n",
      "Num Topics = 6  has Coherence Value of 0.5847\n",
      "Num Topics = 7  has Coherence Value of 0.5651\n",
      "Num Topics = 8  has Coherence Value of 0.5101\n",
      "Num Topics = 9  has Coherence Value of 0.5009\n",
      "Num Topics = 10  has Coherence Value of 0.4615\n",
      "Num Topics = 11  has Coherence Value of 0.4847\n"
     ]
    }
   ],
   "source": [
    "# Print the coherence scores\n",
    "for m, cv in zip(x, coherence_values):\n",
    "    print(\"Num Topics =\", m, \" has Coherence Value of\", round(cv, 4))\n",
    "\n",
    "#If the coherence score seems to keep increasing, it may make better sense to pick the model that gave the highest CV before flattening out"
   ]
  },
  {
   "cell_type": "code",
   "execution_count": 202,
   "metadata": {},
   "outputs": [
    {
     "name": "stdout",
     "output_type": "stream",
     "text": [
      "[(0,\n",
      "  '0.082*\"store\" + 0.076*\"grocery\" + 0.076*\"departmental\" + 0.055*\"movie\" + '\n",
      "  '0.053*\"dine\" + 0.021*\"bill\" + 0.020*\"stand\" + 0.020*\"instruction\" + '\n",
      "  '0.020*\"utility\" + 0.018*\"dining\"'),\n",
      " (1,\n",
      "  '0.060*\"hotel\" + 0.050*\"booking\" + 0.048*\"discount\" + 0.043*\"complimentary\" '\n",
      "  '+ 0.033*\"com\" + 0.029*\"flat\" + 0.029*\"cash\" + 0.029*\"golf\" + 0.029*\"carry\" '\n",
      "  '+ 0.029*\"classified\"'),\n",
      " (2,\n",
      "  '0.056*\"landmark\" + 0.055*\"retail\" + 0.035*\"online\" + 0.027*\"store\" + '\n",
      "  '0.026*\"movie\" + 0.025*\"mobile\" + 0.024*\"dining\" + 0.023*\"call\" + '\n",
      "  '0.022*\"billing\" + 0.022*\"max\"')]\n"
     ]
    }
   ],
   "source": [
    "# Select the model and print the topics\n",
    "optimal_model = model_list[1]\n",
    "model_topics = optimal_model.show_topics(formatted=False)\n",
    "pprint(optimal_model.print_topics(num_words=10))"
   ]
  },
  {
   "cell_type": "code",
   "execution_count": 203,
   "metadata": {},
   "outputs": [
    {
     "data": {
      "text/html": [
       "\n",
       "<link rel=\"stylesheet\" type=\"text/css\" href=\"https://cdn.jsdelivr.net/gh/bmabey/pyLDAvis@3.3.1/pyLDAvis/js/ldavis.v1.0.0.css\">\n",
       "\n",
       "\n",
       "<div id=\"ldavis_el67441403524178548489767287881\"></div>\n",
       "<script type=\"text/javascript\">\n",
       "\n",
       "var ldavis_el67441403524178548489767287881_data = {\"mdsDat\": {\"x\": [-0.151166536714521, -0.14204254106132863, 0.2932090777758496], \"y\": [0.18456325318691585, -0.1884321746266921, 0.0038689214397762206], \"topics\": [1, 2, 3], \"cluster\": [1, 1, 1], \"Freq\": [36.0641828033506, 34.35858949342484, 29.57722770322457]}, \"tinfo\": {\"Term\": [\"grocery\", \"departmental\", \"hotel\", \"landmark\", \"booking\", \"discount\", \"complimentary\", \"retail\", \"online\", \"movie\", \"dine\", \"com\", \"flat\", \"cash\", \"golf\", \"carry\", \"classified\", \"store\", \"call\", \"billing\", \"max\", \"quarter\", \"mobile\", \"stand\", \"instruction\", \"cashier\", \"instant\", \"last\", \"centre\", \"convert\", \"landmark\", \"online\", \"call\", \"billing\", \"max\", \"approach\", \"cashier\", \"centre\", \"convert\", \"helpline\", \"instant\", \"last\", \"lmr\", \"number\", \"register\", \"share\", \"spar\", \"lifestyle\", \"home\", \"fabfamily\", \"partner\", \"offline\", \"wallet\", \"shopping\", \"mobile\", \"cycle\", \"amazon\", \"statement\", \"central\", \"account\", \"retail\", \"dining\", \"movie\", \"store\", \"grocery\", \"departmental\", \"instruction\", \"stand\", \"birthday\", \"gift\", \"first\", \"voucher\", \"bata\", \"shopper\", \"stop\", \"yatra\", \"spending\", \"follow\", \"hush\", \"puppy\", \"westside\", \"achieve\", \"accrue\", \"pay\", \"outstanding\", \"cap\", \"limit\", \"auto\", \"continue\", \"cumulative\", \"policy\", \"top\", \"pump\", \"cv\", \"dine\", \"store\", \"movie\", \"day\", \"brand\", \"waiver\", \"bill\", \"utility\", \"dining\", \"hotel\", \"booking\", \"discount\", \"complimentary\", \"com\", \"flat\", \"cash\", \"carry\", \"classified\", \"golf\", \"quarter\", \"flight\", \"good\", \"supply\", \"office\", \"access\", \"bookmyad\", \"coaching\", \"course\", \"display\", \"lalit\", \"lesson\", \"printvenue\", \"privilege\", \"rate\", \"room\", \"sarovar\", \"text\", \"program\", \"loyalty\", \"dine\", \"utility\", \"store\", \"bill\"], \"Freq\": [39.0, 39.0, 26.0, 30.0, 22.0, 21.0, 19.0, 33.0, 19.0, 42.0, 34.0, 15.0, 13.0, 13.0, 13.0, 13.0, 13.0, 63.0, 12.0, 12.0, 12.0, 10.0, 14.0, 10.0, 10.0, 10.0, 10.0, 10.0, 10.0, 10.0, 29.93342515893949, 18.797529816369803, 12.23892364186971, 11.933442472121891, 11.874175108374368, 10.243300070888749, 10.243300070888749, 10.243300070888749, 10.243300070888749, 10.243300070888749, 10.243300070888749, 10.243300070888749, 10.243300070888749, 10.243300070888749, 10.243300070888749, 10.243300070888749, 10.243300070888749, 9.509282846859547, 9.040124828907553, 6.321870133110053, 5.716052667665828, 4.522324474628907, 4.336504603737997, 4.443171689644073, 13.212372454685553, 4.484163232134357, 3.7960337268352125, 2.892152677270007, 2.8047113689036536, 2.606480882715505, 29.07786505380521, 12.592200369536027, 14.057069122342773, 14.52501436690258, 38.60670054833721, 38.53915771873779, 10.293146056496713, 10.293146056496713, 7.697517933399317, 7.32315137893299, 6.902865479852065, 6.5998459477859965, 6.298492991995334, 6.298492991995334, 6.298492991995334, 6.298492991995334, 6.415290206697036, 5.774512632101553, 5.774512632101553, 5.774512632101553, 5.774512632101553, 5.505913493135586, 5.399399870585831, 5.1037272448644115, 3.838330711384752, 3.6492812085517725, 2.929280610902481, 2.8240087788315105, 2.8240087788315105, 2.8240087788315105, 2.8240087788315105, 2.8240087788315105, 2.894589062868871, 2.7163364350254198, 26.762400069124634, 41.71872660485872, 28.005912346338768, 6.615417651121641, 6.131769758648471, 3.0598382895014624, 10.411617871205534, 10.249840560483982, 9.056014061947806, 26.073820127016308, 21.958028285810787, 20.94719126449911, 18.852529020415066, 14.37187743242878, 12.858739866716046, 12.726732960246585, 12.548232033127217, 12.548232033127217, 12.548232033127217, 9.433105833610979, 7.385412171629226, 6.499621280415241, 6.678797482477982, 6.354173477193825, 6.317973539555541, 6.317973539555541, 6.317973539555541, 6.317973539555541, 6.317973539555541, 6.317973539555541, 6.317973539555541, 6.317973539555541, 6.317973539555541, 6.317973539555541, 6.317973539555541, 6.317973539555541, 6.317973539555541, 6.443546237840125, 6.420328481303333, 7.16123551732322, 6.79211812545725, 6.7623365502019235, 6.375759928738051], \"Total\": [39.0, 39.0, 26.0, 30.0, 22.0, 21.0, 19.0, 33.0, 19.0, 42.0, 34.0, 15.0, 13.0, 13.0, 13.0, 13.0, 13.0, 63.0, 12.0, 12.0, 12.0, 10.0, 14.0, 10.0, 10.0, 10.0, 10.0, 10.0, 10.0, 10.0, 30.271154349635538, 19.19924063006643, 12.583471033716776, 12.290290486118186, 12.231964976852181, 10.581030795533506, 10.581030795533506, 10.581030795533506, 10.581030795533506, 10.581030795533506, 10.581030795533506, 10.581030795533506, 10.581030795533506, 10.581030795533506, 10.581030795533506, 10.581030795533506, 10.581030795533506, 9.853906842016979, 9.377635608906505, 6.705627312134712, 6.092807728708314, 4.8665950729463185, 4.674115742725821, 4.790934379133358, 14.395601991949336, 4.901185900686825, 4.2353743746572095, 3.230548000133713, 3.142224100324262, 2.9451266667638136, 33.70558003606389, 21.741322960553937, 42.15189614852521, 63.00607752196323, 39.095832286152714, 39.02883278464554, 10.822480826503838, 10.822480826503838, 8.18447472818002, 7.814398726619503, 7.401162919613923, 7.088741182043761, 6.786531111172638, 6.786531111172638, 6.786531111172638, 6.786531111172638, 6.922108738554997, 6.261469426882257, 6.261469426882257, 6.261469426882257, 6.261469426882257, 5.993539673029806, 5.886356696329907, 5.59221654473769, 4.32897169510807, 4.139086348626168, 3.4162710589668293, 3.310965604575586, 3.310965604575586, 3.310965604575586, 3.310965604575586, 3.310965604575586, 3.394848669115919, 3.2036488554356275, 34.349483493578774, 63.00607752196323, 42.15189614852521, 8.579349165379751, 8.423729723138528, 3.6588616095687807, 17.189242004755286, 17.461818121924388, 21.741322960553937, 26.736718957125127, 22.618065945219985, 21.595698019194906, 19.501294711881762, 15.030208342869251, 13.50693147787802, 13.379906853936014, 13.196424352265518, 13.196424352265518, 13.196424352265518, 10.08129815274928, 8.050040682381836, 7.148394199140283, 7.358780595105586, 7.005082272002497, 6.966165947190883, 6.966165947190883, 6.966165947190883, 6.966165947190883, 6.966165947190883, 6.966165947190883, 6.966165947190883, 6.966165947190883, 6.966165947190883, 6.966165947190883, 6.966165947190883, 6.966165947190883, 6.966165947190883, 7.123987704084764, 7.208347914379054, 34.349483493578774, 17.461818121924388, 63.00607752196323, 17.189242004755286], \"Category\": [\"Default\", \"Default\", \"Default\", \"Default\", \"Default\", \"Default\", \"Default\", \"Default\", \"Default\", \"Default\", \"Default\", \"Default\", \"Default\", \"Default\", \"Default\", \"Default\", \"Default\", \"Default\", \"Default\", \"Default\", \"Default\", \"Default\", \"Default\", \"Default\", \"Default\", \"Default\", \"Default\", \"Default\", \"Default\", \"Default\", \"Topic1\", \"Topic1\", \"Topic1\", \"Topic1\", \"Topic1\", \"Topic1\", \"Topic1\", \"Topic1\", \"Topic1\", \"Topic1\", \"Topic1\", \"Topic1\", \"Topic1\", \"Topic1\", \"Topic1\", \"Topic1\", \"Topic1\", \"Topic1\", \"Topic1\", \"Topic1\", \"Topic1\", \"Topic1\", \"Topic1\", \"Topic1\", \"Topic1\", \"Topic1\", \"Topic1\", \"Topic1\", \"Topic1\", \"Topic1\", \"Topic1\", \"Topic1\", \"Topic1\", \"Topic1\", \"Topic2\", \"Topic2\", \"Topic2\", \"Topic2\", \"Topic2\", \"Topic2\", \"Topic2\", \"Topic2\", \"Topic2\", \"Topic2\", \"Topic2\", \"Topic2\", \"Topic2\", \"Topic2\", \"Topic2\", \"Topic2\", \"Topic2\", \"Topic2\", \"Topic2\", \"Topic2\", \"Topic2\", \"Topic2\", \"Topic2\", \"Topic2\", \"Topic2\", \"Topic2\", \"Topic2\", \"Topic2\", \"Topic2\", \"Topic2\", \"Topic2\", \"Topic2\", \"Topic2\", \"Topic2\", \"Topic2\", \"Topic2\", \"Topic2\", \"Topic2\", \"Topic2\", \"Topic3\", \"Topic3\", \"Topic3\", \"Topic3\", \"Topic3\", \"Topic3\", \"Topic3\", \"Topic3\", \"Topic3\", \"Topic3\", \"Topic3\", \"Topic3\", \"Topic3\", \"Topic3\", \"Topic3\", \"Topic3\", \"Topic3\", \"Topic3\", \"Topic3\", \"Topic3\", \"Topic3\", \"Topic3\", \"Topic3\", \"Topic3\", \"Topic3\", \"Topic3\", \"Topic3\", \"Topic3\", \"Topic3\", \"Topic3\", \"Topic3\", \"Topic3\", \"Topic3\", \"Topic3\"], \"logprob\": [30.0, 29.0, 28.0, 27.0, 26.0, 25.0, 24.0, 23.0, 22.0, 21.0, 20.0, 19.0, 18.0, 17.0, 16.0, 15.0, 14.0, 13.0, 12.0, 11.0, 10.0, 9.0, 8.0, 7.0, 6.0, 5.0, 4.0, 3.0, 2.0, 1.0, -2.8776, -3.3428, -3.7719, -3.7972, -3.8022, -3.9499, -3.9499, -3.9499, -3.9499, -3.9499, -3.9499, -3.9499, -3.9499, -3.9499, -3.9499, -3.9499, -3.9499, -4.0243, -4.0749, -4.4325, -4.5333, -4.7675, -4.8095, -4.7852, -3.6954, -4.776, -4.9426, -5.2145, -5.2452, -5.3185, -2.9066, -3.7435, -3.6334, -3.6007, -2.5747, -2.5764, -3.8966, -3.8966, -4.1872, -4.2371, -4.2962, -4.341, -4.3878, -4.3878, -4.3878, -4.3878, -4.3694, -4.4746, -4.4746, -4.4746, -4.4746, -4.5223, -4.5418, -4.5981, -4.8831, -4.9336, -5.1533, -5.1899, -5.1899, -5.1899, -5.1899, -5.1899, -5.1653, -5.2288, -2.9411, -2.4971, -2.8957, -4.3387, -4.4146, -5.1097, -3.8852, -3.9008, -4.0247, -2.8173, -2.9891, -3.0362, -3.1416, -3.413, -3.5242, -3.5345, -3.5487, -3.5487, -3.5487, -3.834, -4.0787, -4.2065, -4.1793, -4.2291, -4.2348, -4.2348, -4.2348, -4.2348, -4.2348, -4.2348, -4.2348, -4.2348, -4.2348, -4.2348, -4.2348, -4.2348, -4.2348, -4.2152, -4.2188, -4.1096, -4.1625, -4.1669, -4.2257], \"loglift\": [30.0, 29.0, 28.0, 27.0, 26.0, 25.0, 24.0, 23.0, 22.0, 21.0, 20.0, 19.0, 18.0, 17.0, 16.0, 15.0, 14.0, 13.0, 12.0, 11.0, 10.0, 9.0, 8.0, 7.0, 6.0, 5.0, 4.0, 3.0, 2.0, 1.0, 1.0087, 0.9987, 0.9921, 0.9904, 0.9902, 0.9874, 0.9874, 0.9874, 0.9874, 0.9874, 0.9874, 0.9874, 0.9874, 0.9874, 0.9874, 0.9874, 0.9874, 0.9843, 0.9832, 0.9609, 0.956, 0.9465, 0.9449, 0.9445, 0.9341, 0.9309, 0.9104, 0.9092, 0.9062, 0.8977, 0.8722, 0.4737, -0.0783, -0.4475, 1.0557, 1.0557, 1.0182, 1.0182, 1.007, 1.0034, 0.9986, 0.9969, 0.9937, 0.9937, 0.9937, 0.9937, 0.9923, 0.9874, 0.9874, 0.9874, 0.9874, 0.9835, 0.982, 0.9769, 0.948, 0.9424, 0.9145, 0.9092, 0.9092, 0.9092, 0.9092, 0.9092, 0.9089, 0.9033, 0.8187, 0.656, 0.6595, 0.8084, 0.7507, 0.8895, 0.567, 0.5356, 0.1925, 1.1931, 1.1885, 1.1877, 1.1843, 1.1734, 1.169, 1.1681, 1.1678, 1.1678, 1.1678, 1.1517, 1.132, 1.123, 1.1212, 1.1206, 1.1205, 1.1205, 1.1205, 1.1205, 1.1205, 1.1205, 1.1205, 1.1205, 1.1205, 1.1205, 1.1205, 1.1205, 1.1205, 1.1178, 1.1024, -0.3497, 0.2739, -1.0137, 0.2264]}, \"token.table\": {\"Topic\": [3, 1, 2, 2, 1, 1, 2, 2, 2, 3, 1, 2, 3, 3, 1, 2, 1, 2, 3, 3, 1, 1, 1, 3, 3, 3, 3, 2, 1, 3, 2, 2, 1, 1, 2, 2, 2, 3, 1, 2, 3, 3, 1, 2, 3, 3, 2, 2, 3, 3, 2, 1, 1, 3, 2, 1, 2, 3, 1, 1, 3, 1, 2, 1, 1, 3, 1, 1, 3, 1, 2, 1, 3, 1, 1, 2, 1, 2, 2, 3, 3, 3, 2, 2, 3, 3, 1, 1, 3, 3, 3, 1, 2, 1, 1, 2, 2, 1, 2, 1, 2, 3, 3, 3, 2, 2, 3, 2, 1, 2, 1, 2, 2], \"Freq\": [0.8613059243039579, 1.0186319094032321, 0.8494218508907992, 1.001077881739778, 0.9444265479657251, 0.9450875054839862, 0.9060800860794666, 0.8841041029226587, 0.581759218773787, 0.3490555312642722, 0.9763805024424713, 0.9774604071358601, 0.9726737932979365, 0.8613059243039579, 0.23742452164702602, 0.7122735649410781, 0.953631948438281, 0.9663968477796234, 0.9851153352588425, 0.9716061660157033, 0.9450875054839862, 0.9547377603304662, 0.9450875054839862, 0.9851153352588425, 0.8613059243039579, 0.9314574808699834, 0.974294285621132, 0.9060800860794666, 0.9450875054839862, 0.8613059243039579, 0.9060800860794666, 0.936432216942223, 0.8161290106215849, 0.2331179162249976, 0.8159127067874916, 0.9992612439935206, 0.7860380201946072, 0.20378763486526855, 0.597939694083307, 0.4139582497499818, 0.9724158941903415, 0.8613059243039579, 0.8947708723898529, 0.9457973126695002, 0.9624687902868032, 0.8695608228813135, 0.9582415230265767, 0.8957822917526234, 0.9851153352588425, 0.8393493465597635, 0.9975487851121497, 0.9450875054839862, 0.9597301895002358, 0.9724454239016191, 0.9582415230265767, 0.9450875054839862, 0.924002560994184, 0.8613059243039579, 0.9910424839930558, 0.9450875054839862, 0.8613059243039579, 1.0148259122320988, 0.878150459439035, 0.9450875054839862, 0.13872804307977726, 0.8323682584786636, 0.9810361640757513, 0.903053585898678, 0.06946566045374446, 0.33213215250554806, 0.6642643050110961, 0.9450875054839862, 0.8565209896221275, 1.0274123745768962, 0.9896224734141612, 0.9240069655618626, 0.9847676583866222, 0.8940998546819562, 0.9060800860794666, 0.8613059243039579, 0.8613059243039579, 0.8422249236280559, 0.8836918202840702, 0.9582415230265767, 0.8927421710611347, 0.8613059243039579, 0.9450875054839862, 0.8603916612314912, 0.1186747118939988, 0.8613059243039579, 0.8613059243039579, 0.9450875054839862, 0.8841041029226587, 0.8349102040348899, 0.9450875054839862, 0.8667878859777217, 0.924002560994184, 0.9286350179213649, 0.8841041029226587, 0.2380722715958816, 0.6666023604684684, 0.11110039341141141, 0.9512445587324325, 0.8613059243039579, 0.9060800860794666, 0.5726780527764394, 0.40087463694350756, 0.98748139059322, 0.27330905257109633, 0.819927157713289, 0.8557768399777165, 0.9582415230265767, 0.8841041029226587], \"Term\": [\"access\", \"account\", \"accrue\", \"achieve\", \"amazon\", \"approach\", \"auto\", \"bata\", \"bill\", \"bill\", \"billing\", \"birthday\", \"booking\", \"bookmyad\", \"brand\", \"brand\", \"call\", \"cap\", \"carry\", \"cash\", \"cashier\", \"central\", \"centre\", \"classified\", \"coaching\", \"com\", \"complimentary\", \"continue\", \"convert\", \"course\", \"cumulative\", \"cv\", \"cycle\", \"day\", \"day\", \"departmental\", \"dine\", \"dine\", \"dining\", \"dining\", \"discount\", \"display\", \"fabfamily\", \"first\", \"flat\", \"flight\", \"follow\", \"gift\", \"golf\", \"good\", \"grocery\", \"helpline\", \"home\", \"hotel\", \"hush\", \"instant\", \"instruction\", \"lalit\", \"landmark\", \"last\", \"lesson\", \"lifestyle\", \"limit\", \"lmr\", \"loyalty\", \"loyalty\", \"max\", \"mobile\", \"mobile\", \"movie\", \"movie\", \"number\", \"office\", \"offline\", \"online\", \"outstanding\", \"partner\", \"pay\", \"policy\", \"printvenue\", \"privilege\", \"program\", \"pump\", \"puppy\", \"quarter\", \"rate\", \"register\", \"retail\", \"retail\", \"room\", \"sarovar\", \"share\", \"shopper\", \"shopping\", \"spar\", \"spending\", \"stand\", \"statement\", \"stop\", \"store\", \"store\", \"store\", \"supply\", \"text\", \"top\", \"utility\", \"utility\", \"voucher\", \"waiver\", \"waiver\", \"wallet\", \"westside\", \"yatra\"]}, \"R\": 30, \"lambda.step\": 0.01, \"plot.opts\": {\"xlab\": \"PC1\", \"ylab\": \"PC2\"}, \"topic.order\": [3, 1, 2]};\n",
       "\n",
       "function LDAvis_load_lib(url, callback){\n",
       "  var s = document.createElement('script');\n",
       "  s.src = url;\n",
       "  s.async = true;\n",
       "  s.onreadystatechange = s.onload = callback;\n",
       "  s.onerror = function(){console.warn(\"failed to load library \" + url);};\n",
       "  document.getElementsByTagName(\"head\")[0].appendChild(s);\n",
       "}\n",
       "\n",
       "if(typeof(LDAvis) !== \"undefined\"){\n",
       "   // already loaded: just create the visualization\n",
       "   !function(LDAvis){\n",
       "       new LDAvis(\"#\" + \"ldavis_el67441403524178548489767287881\", ldavis_el67441403524178548489767287881_data);\n",
       "   }(LDAvis);\n",
       "}else if(typeof define === \"function\" && define.amd){\n",
       "   // require.js is available: use it to load d3/LDAvis\n",
       "   require.config({paths: {d3: \"https://d3js.org/d3.v5\"}});\n",
       "   require([\"d3\"], function(d3){\n",
       "      window.d3 = d3;\n",
       "      LDAvis_load_lib(\"https://cdn.jsdelivr.net/gh/bmabey/pyLDAvis@3.3.1/pyLDAvis/js/ldavis.v3.0.0.js\", function(){\n",
       "        new LDAvis(\"#\" + \"ldavis_el67441403524178548489767287881\", ldavis_el67441403524178548489767287881_data);\n",
       "      });\n",
       "    });\n",
       "}else{\n",
       "    // require.js not available: dynamically load d3 & LDAvis\n",
       "    LDAvis_load_lib(\"https://d3js.org/d3.v5.js\", function(){\n",
       "         LDAvis_load_lib(\"https://cdn.jsdelivr.net/gh/bmabey/pyLDAvis@3.3.1/pyLDAvis/js/ldavis.v3.0.0.js\", function(){\n",
       "                 new LDAvis(\"#\" + \"ldavis_el67441403524178548489767287881\", ldavis_el67441403524178548489767287881_data);\n",
       "            })\n",
       "         });\n",
       "}\n",
       "</script>"
      ],
      "text/plain": [
       "PreparedData(topic_coordinates=              x         y  topics  cluster       Freq\n",
       "topic                                                \n",
       "2     -0.151167  0.184563       1        1  36.064183\n",
       "0     -0.142043 -0.188432       2        1  34.358589\n",
       "1      0.293209  0.003869       3        1  29.577228, topic_info=             Term       Freq      Total Category  logprob  loglift\n",
       "179       grocery  39.000000  39.000000  Default  30.0000  30.0000\n",
       "113  departmental  39.000000  39.000000  Default  29.0000  29.0000\n",
       "49          hotel  26.000000  26.000000  Default  28.0000  28.0000\n",
       "229      landmark  30.000000  30.000000  Default  27.0000  27.0000\n",
       "40        booking  22.000000  22.000000  Default  26.0000  26.0000\n",
       "..            ...        ...        ...      ...      ...      ...\n",
       "81        loyalty   6.420328   7.208348   Topic3  -4.2188   1.1024\n",
       "155          dine   7.161236  34.349483   Topic3  -4.1096  -0.3497\n",
       "67        utility   6.792118  17.461818   Topic3  -4.1625   0.2739\n",
       "121         store   6.762337  63.006078   Topic3  -4.1669  -1.0137\n",
       "108          bill   6.375760  17.189242   Topic3  -4.2257   0.2264\n",
       "\n",
       "[137 rows x 6 columns], token_table=      Topic      Freq      Term\n",
       "term                           \n",
       "298       3  0.861306    access\n",
       "218       1  1.018632   account\n",
       "286       2  0.849422    accrue\n",
       "7         2  1.001078   achieve\n",
       "132       1  0.944427    amazon\n",
       "...     ...       ...       ...\n",
       "204       1  0.273309    waiver\n",
       "204       2  0.819927    waiver\n",
       "127       1  0.855777    wallet\n",
       "296       2  0.958242  westside\n",
       "194       2  0.884104     yatra\n",
       "\n",
       "[113 rows x 3 columns], R=30, lambda_step=0.01, plot_opts={'xlab': 'PC1', 'ylab': 'PC2'}, topic_order=[3, 1, 2])"
      ]
     },
     "execution_count": 203,
     "metadata": {},
     "output_type": "execute_result"
    }
   ],
   "source": [
    "optmod_vis = gensimvis.prepare(optimal_model, corpus, id2word)\n",
    "optmod_vis"
   ]
  },
  {
   "cell_type": "code",
   "execution_count": null,
   "metadata": {},
   "outputs": [],
   "source": []
  },
  {
   "cell_type": "code",
   "execution_count": 176,
   "metadata": {},
   "outputs": [],
   "source": [
    "#Finding the dominant topic in each sentence\n",
    "#find the topic number that has the highest percentage contribution in that document.\n",
    "#The format_topics_sentences() function below nicely aggregates this information in a presentable table.\n",
    "\n",
    "def format_topics_sentences(ldamodel=lda_model, corpus=corpus, texts=data):\n",
    "    # Init output\n",
    "    sent_topics_df = pd.DataFrame()\n",
    "\n",
    "    # Get main topic in each document\n",
    "    for i, row in enumerate(ldamodel[corpus]):\n",
    "        #row = sorted(row, key=lambda x: (x[1]), reverse=True)\n",
    "        row = sorted(row[0], key=lambda x: (x[1]), reverse=True)\n",
    "        # Get the Dominant topic, Perc Contribution and Keywords for each document\n",
    "        for j, (topic_num, prop_topic) in enumerate(row):\n",
    "            if j == 0:  # => dominant topic\n",
    "                wp = ldamodel.show_topic(topic_num)\n",
    "                topic_keywords = \", \".join([word for word, prop in wp])\n",
    "                sent_topics_df = sent_topics_df.append(pd.Series([int(topic_num), round(prop_topic,4), topic_keywords]), ignore_index=True)\n",
    "            else:\n",
    "                break\n",
    "    sent_topics_df.columns = ['Dominant_Topic', 'Perc_Contribution', 'Topic_Keywords']\n",
    "\n",
    "    # Add original text to the end of the output\n",
    "    contents = pd.Series(texts)\n",
    "    sent_topics_df = pd.concat([sent_topics_df, contents], axis=1)\n",
    "    return(sent_topics_df)\n",
    "\n",
    "\n"
   ]
  },
  {
   "cell_type": "code",
   "execution_count": 177,
   "metadata": {},
   "outputs": [
    {
     "data": {
      "text/html": [
       "<div>\n",
       "<style scoped>\n",
       "    .dataframe tbody tr th:only-of-type {\n",
       "        vertical-align: middle;\n",
       "    }\n",
       "\n",
       "    .dataframe tbody tr th {\n",
       "        vertical-align: top;\n",
       "    }\n",
       "\n",
       "    .dataframe thead th {\n",
       "        text-align: right;\n",
       "    }\n",
       "</style>\n",
       "<table border=\"1\" class=\"dataframe\">\n",
       "  <thead>\n",
       "    <tr style=\"text-align: right;\">\n",
       "      <th></th>\n",
       "      <th>Document_No</th>\n",
       "      <th>Dominant_Topic</th>\n",
       "      <th>Topic_Perc_Contrib</th>\n",
       "      <th>Keywords</th>\n",
       "      <th>Text</th>\n",
       "    </tr>\n",
       "  </thead>\n",
       "  <tbody>\n",
       "    <tr>\n",
       "      <th>0</th>\n",
       "      <td>0</td>\n",
       "      <td>2</td>\n",
       "      <td>0.8247</td>\n",
       "      <td>retail, dining, landmark, mobile, max, billing...</td>\n",
       "      <td>cashback flipkart myntra cashback preferred me...</td>\n",
       "    </tr>\n",
       "    <tr>\n",
       "      <th>1</th>\n",
       "      <td>1</td>\n",
       "      <td>2</td>\n",
       "      <td>0.7829</td>\n",
       "      <td>retail, dining, landmark, mobile, max, billing...</td>\n",
       "      <td>earn 10 axis edge points every rs 200 spends e...</td>\n",
       "    </tr>\n",
       "    <tr>\n",
       "      <th>2</th>\n",
       "      <td>2</td>\n",
       "      <td>1</td>\n",
       "      <td>0.4144</td>\n",
       "      <td>day, first, online, exclusive, cycle, cv, amaz...</td>\n",
       "      <td>earn cv points every rs 200 spent axis bank vi...</td>\n",
       "    </tr>\n",
       "    <tr>\n",
       "      <th>3</th>\n",
       "      <td>3</td>\n",
       "      <td>1</td>\n",
       "      <td>0.3838</td>\n",
       "      <td>day, first, online, exclusive, cycle, cv, amaz...</td>\n",
       "      <td>earn cv points every rs 200 spent axis bank vi...</td>\n",
       "    </tr>\n",
       "    <tr>\n",
       "      <th>4</th>\n",
       "      <td>4</td>\n",
       "      <td>1</td>\n",
       "      <td>0.4187</td>\n",
       "      <td>day, first, online, exclusive, cycle, cv, amaz...</td>\n",
       "      <td>earn cv points every rs 200 spent axis bank vi...</td>\n",
       "    </tr>\n",
       "    <tr>\n",
       "      <th>5</th>\n",
       "      <td>5</td>\n",
       "      <td>1</td>\n",
       "      <td>0.5462</td>\n",
       "      <td>day, first, online, exclusive, cycle, cv, amaz...</td>\n",
       "      <td>cashback freecharge spends cashback spends</td>\n",
       "    </tr>\n",
       "    <tr>\n",
       "      <th>6</th>\n",
       "      <td>6</td>\n",
       "      <td>3</td>\n",
       "      <td>0.4002</td>\n",
       "      <td>store, grocery, departmental, dine, movie, uti...</td>\n",
       "      <td>spends</td>\n",
       "    </tr>\n",
       "    <tr>\n",
       "      <th>7</th>\n",
       "      <td>7</td>\n",
       "      <td>3</td>\n",
       "      <td>0.4381</td>\n",
       "      <td>store, grocery, departmental, dine, movie, uti...</td>\n",
       "      <td>25 cashback online box office movie ticket pur...</td>\n",
       "    </tr>\n",
       "    <tr>\n",
       "      <th>8</th>\n",
       "      <td>8</td>\n",
       "      <td>0</td>\n",
       "      <td>0.9634</td>\n",
       "      <td>hotel, booking, com, value, mile, ticket, air,...</td>\n",
       "      <td>20 cashback bare fare domestic flight bookings...</td>\n",
       "    </tr>\n",
       "    <tr>\n",
       "      <th>9</th>\n",
       "      <td>9</td>\n",
       "      <td>1</td>\n",
       "      <td>0.6484</td>\n",
       "      <td>day, first, online, exclusive, cycle, cv, amaz...</td>\n",
       "      <td>earn payback points icici bank rewards every r...</td>\n",
       "    </tr>\n",
       "  </tbody>\n",
       "</table>\n",
       "</div>"
      ],
      "text/plain": [
       "   Document_No  Dominant_Topic  Topic_Perc_Contrib  \\\n",
       "0            0               2              0.8247   \n",
       "1            1               2              0.7829   \n",
       "2            2               1              0.4144   \n",
       "3            3               1              0.3838   \n",
       "4            4               1              0.4187   \n",
       "5            5               1              0.5462   \n",
       "6            6               3              0.4002   \n",
       "7            7               3              0.4381   \n",
       "8            8               0              0.9634   \n",
       "9            9               1              0.6484   \n",
       "\n",
       "                                            Keywords  \\\n",
       "0  retail, dining, landmark, mobile, max, billing...   \n",
       "1  retail, dining, landmark, mobile, max, billing...   \n",
       "2  day, first, online, exclusive, cycle, cv, amaz...   \n",
       "3  day, first, online, exclusive, cycle, cv, amaz...   \n",
       "4  day, first, online, exclusive, cycle, cv, amaz...   \n",
       "5  day, first, online, exclusive, cycle, cv, amaz...   \n",
       "6  store, grocery, departmental, dine, movie, uti...   \n",
       "7  store, grocery, departmental, dine, movie, uti...   \n",
       "8  hotel, booking, com, value, mile, ticket, air,...   \n",
       "9  day, first, online, exclusive, cycle, cv, amaz...   \n",
       "\n",
       "                                                Text  \n",
       "0  cashback flipkart myntra cashback preferred me...  \n",
       "1  earn 10 axis edge points every rs 200 spends e...  \n",
       "2  earn cv points every rs 200 spent axis bank vi...  \n",
       "3  earn cv points every rs 200 spent axis bank vi...  \n",
       "4  earn cv points every rs 200 spent axis bank vi...  \n",
       "5         cashback freecharge spends cashback spends  \n",
       "6                                             spends  \n",
       "7  25 cashback online box office movie ticket pur...  \n",
       "8  20 cashback bare fare domestic flight bookings...  \n",
       "9  earn payback points icici bank rewards every r...  "
      ]
     },
     "execution_count": 177,
     "metadata": {},
     "output_type": "execute_result"
    }
   ],
   "source": [
    "df_topic_sents_keywords = format_topics_sentences(ldamodel=optimal_model, corpus=corpus, texts=data)\n",
    "\n",
    "# Format\n",
    "df_dominant_topic = df_topic_sents_keywords.reset_index()\n",
    "df_dominant_topic.columns = ['Document_No', 'Dominant_Topic', 'Topic_Perc_Contrib', 'Keywords', 'Text']\n",
    "\n",
    "# Show\n",
    "df_dominant_topic.head(10)"
   ]
  },
  {
   "cell_type": "code",
   "execution_count": 178,
   "metadata": {},
   "outputs": [],
   "source": [
    "df_final= df_dominant_topic[['Dominant_Topic',  'Keywords', 'Text']]"
   ]
  },
  {
   "cell_type": "code",
   "execution_count": 179,
   "metadata": {},
   "outputs": [
    {
     "data": {
      "text/html": [
       "<div>\n",
       "<style scoped>\n",
       "    .dataframe tbody tr th:only-of-type {\n",
       "        vertical-align: middle;\n",
       "    }\n",
       "\n",
       "    .dataframe tbody tr th {\n",
       "        vertical-align: top;\n",
       "    }\n",
       "\n",
       "    .dataframe thead th {\n",
       "        text-align: right;\n",
       "    }\n",
       "</style>\n",
       "<table border=\"1\" class=\"dataframe\">\n",
       "  <thead>\n",
       "    <tr style=\"text-align: right;\">\n",
       "      <th></th>\n",
       "      <th>Dominant_Topic</th>\n",
       "      <th>Keywords</th>\n",
       "      <th>Text</th>\n",
       "    </tr>\n",
       "  </thead>\n",
       "  <tbody>\n",
       "    <tr>\n",
       "      <th>0</th>\n",
       "      <td>2</td>\n",
       "      <td>retail, dining, landmark, mobile, max, billing...</td>\n",
       "      <td>cashback flipkart myntra cashback preferred me...</td>\n",
       "    </tr>\n",
       "    <tr>\n",
       "      <th>1</th>\n",
       "      <td>2</td>\n",
       "      <td>retail, dining, landmark, mobile, max, billing...</td>\n",
       "      <td>earn 10 axis edge points every rs 200 spends e...</td>\n",
       "    </tr>\n",
       "    <tr>\n",
       "      <th>2</th>\n",
       "      <td>1</td>\n",
       "      <td>day, first, online, exclusive, cycle, cv, amaz...</td>\n",
       "      <td>earn cv points every rs 200 spent axis bank vi...</td>\n",
       "    </tr>\n",
       "    <tr>\n",
       "      <th>3</th>\n",
       "      <td>1</td>\n",
       "      <td>day, first, online, exclusive, cycle, cv, amaz...</td>\n",
       "      <td>earn cv points every rs 200 spent axis bank vi...</td>\n",
       "    </tr>\n",
       "    <tr>\n",
       "      <th>4</th>\n",
       "      <td>1</td>\n",
       "      <td>day, first, online, exclusive, cycle, cv, amaz...</td>\n",
       "      <td>earn cv points every rs 200 spent axis bank vi...</td>\n",
       "    </tr>\n",
       "    <tr>\n",
       "      <th>...</th>\n",
       "      <td>...</td>\n",
       "      <td>...</td>\n",
       "      <td>...</td>\n",
       "    </tr>\n",
       "    <tr>\n",
       "      <th>133</th>\n",
       "      <td>3</td>\n",
       "      <td>store, grocery, departmental, dine, movie, uti...</td>\n",
       "      <td>enjoy value back get 10x reward points per rs ...</td>\n",
       "    </tr>\n",
       "    <tr>\n",
       "      <th>134</th>\n",
       "      <td>0</td>\n",
       "      <td>hotel, booking, com, value, mile, ticket, air,...</td>\n",
       "      <td>earn reward points every rs 100 spent categori...</td>\n",
       "    </tr>\n",
       "    <tr>\n",
       "      <th>135</th>\n",
       "      <td>3</td>\n",
       "      <td>store, grocery, departmental, dine, movie, uti...</td>\n",
       "      <td>enjoy value back get 10x reward points per rs ...</td>\n",
       "    </tr>\n",
       "    <tr>\n",
       "      <th>136</th>\n",
       "      <td>4</td>\n",
       "      <td>discount, complimentary, flat, cash, golf, car...</td>\n",
       "      <td>get 10 reward points per rs 100 spent dining u...</td>\n",
       "    </tr>\n",
       "    <tr>\n",
       "      <th>137</th>\n",
       "      <td>4</td>\n",
       "      <td>discount, complimentary, flat, cash, golf, car...</td>\n",
       "      <td>get 5x reward points dining utility bills paym...</td>\n",
       "    </tr>\n",
       "  </tbody>\n",
       "</table>\n",
       "<p>138 rows × 3 columns</p>\n",
       "</div>"
      ],
      "text/plain": [
       "     Dominant_Topic                                           Keywords  \\\n",
       "0                 2  retail, dining, landmark, mobile, max, billing...   \n",
       "1                 2  retail, dining, landmark, mobile, max, billing...   \n",
       "2                 1  day, first, online, exclusive, cycle, cv, amaz...   \n",
       "3                 1  day, first, online, exclusive, cycle, cv, amaz...   \n",
       "4                 1  day, first, online, exclusive, cycle, cv, amaz...   \n",
       "..              ...                                                ...   \n",
       "133               3  store, grocery, departmental, dine, movie, uti...   \n",
       "134               0  hotel, booking, com, value, mile, ticket, air,...   \n",
       "135               3  store, grocery, departmental, dine, movie, uti...   \n",
       "136               4  discount, complimentary, flat, cash, golf, car...   \n",
       "137               4  discount, complimentary, flat, cash, golf, car...   \n",
       "\n",
       "                                                  Text  \n",
       "0    cashback flipkart myntra cashback preferred me...  \n",
       "1    earn 10 axis edge points every rs 200 spends e...  \n",
       "2    earn cv points every rs 200 spent axis bank vi...  \n",
       "3    earn cv points every rs 200 spent axis bank vi...  \n",
       "4    earn cv points every rs 200 spent axis bank vi...  \n",
       "..                                                 ...  \n",
       "133  enjoy value back get 10x reward points per rs ...  \n",
       "134  earn reward points every rs 100 spent categori...  \n",
       "135  enjoy value back get 10x reward points per rs ...  \n",
       "136  get 10 reward points per rs 100 spent dining u...  \n",
       "137  get 5x reward points dining utility bills paym...  \n",
       "\n",
       "[138 rows x 3 columns]"
      ]
     },
     "execution_count": 179,
     "metadata": {},
     "output_type": "execute_result"
    }
   ],
   "source": [
    "df_final"
   ]
  },
  {
   "cell_type": "code",
   "execution_count": 180,
   "metadata": {},
   "outputs": [
    {
     "data": {
      "text/html": [
       "<div>\n",
       "<style scoped>\n",
       "    .dataframe tbody tr th:only-of-type {\n",
       "        vertical-align: middle;\n",
       "    }\n",
       "\n",
       "    .dataframe tbody tr th {\n",
       "        vertical-align: top;\n",
       "    }\n",
       "\n",
       "    .dataframe thead th {\n",
       "        text-align: right;\n",
       "    }\n",
       "</style>\n",
       "<table border=\"1\" class=\"dataframe\">\n",
       "  <thead>\n",
       "    <tr style=\"text-align: right;\">\n",
       "      <th></th>\n",
       "      <th>CardVariant</th>\n",
       "      <th>Cashback</th>\n",
       "    </tr>\n",
       "  </thead>\n",
       "  <tbody>\n",
       "    <tr>\n",
       "      <th>0</th>\n",
       "      <td>Flipkart Axis Bank Credit Card</td>\n",
       "      <td>5% cashback on Flipkart &amp; Myntra. 4% cashback ...</td>\n",
       "    </tr>\n",
       "    <tr>\n",
       "      <th>1</th>\n",
       "      <td>AXIS Bank SELECT Credit Card</td>\n",
       "      <td>Earn 10 Axis EDGE points on every Rs. 200 spen...</td>\n",
       "    </tr>\n",
       "    <tr>\n",
       "      <th>2</th>\n",
       "      <td>Axis Bank Vistara Credit Card</td>\n",
       "      <td>Earn 2 CV Points* for every Rs 200 spent on th...</td>\n",
       "    </tr>\n",
       "    <tr>\n",
       "      <th>3</th>\n",
       "      <td>Axis Bank Vistara Signature Credit Card</td>\n",
       "      <td>Earn 4 CV Points* for every Rs. 200 spent on t...</td>\n",
       "    </tr>\n",
       "    <tr>\n",
       "      <th>4</th>\n",
       "      <td>Axis Bank Vistara Infinite Credit Card</td>\n",
       "      <td>Earn 6 CV Points* for every Rs. 200 spent on t...</td>\n",
       "    </tr>\n",
       "  </tbody>\n",
       "</table>\n",
       "</div>"
      ],
      "text/plain": [
       "                               CardVariant  \\\n",
       "0           Flipkart Axis Bank Credit Card   \n",
       "1             AXIS Bank SELECT Credit Card   \n",
       "2            Axis Bank Vistara Credit Card   \n",
       "3  Axis Bank Vistara Signature Credit Card   \n",
       "4   Axis Bank Vistara Infinite Credit Card   \n",
       "\n",
       "                                            Cashback  \n",
       "0  5% cashback on Flipkart & Myntra. 4% cashback ...  \n",
       "1  Earn 10 Axis EDGE points on every Rs. 200 spen...  \n",
       "2  Earn 2 CV Points* for every Rs 200 spent on th...  \n",
       "3  Earn 4 CV Points* for every Rs. 200 spent on t...  \n",
       "4  Earn 6 CV Points* for every Rs. 200 spent on t...  "
      ]
     },
     "execution_count": 180,
     "metadata": {},
     "output_type": "execute_result"
    }
   ],
   "source": [
    "df2.head()"
   ]
  },
  {
   "cell_type": "code",
   "execution_count": 181,
   "metadata": {},
   "outputs": [
    {
     "data": {
      "text/plain": [
       "0                      Flipkart Axis Bank Credit Card\n",
       "1                        AXIS Bank SELECT Credit Card\n",
       "2                       Axis Bank Vistara Credit Card\n",
       "3             Axis Bank Vistara Signature Credit Card\n",
       "4              Axis Bank Vistara Infinite Credit Card\n",
       "                            ...                      \n",
       "133                       Karur Vysya Bank - SBI Card\n",
       "134    Bank of Maharashtra - SBI Platinum Credit Card\n",
       "135                    Bank of Maharashtra - SBI Card\n",
       "136                    SBI PRIME Business Credit Card\n",
       "137                    SBI ELITE Business Credit Card\n",
       "Name: CardVariant, Length: 138, dtype: object"
      ]
     },
     "execution_count": 181,
     "metadata": {},
     "output_type": "execute_result"
    }
   ],
   "source": [
    "df2['CardVariant']"
   ]
  },
  {
   "cell_type": "code",
   "execution_count": 182,
   "metadata": {},
   "outputs": [],
   "source": [
    "#df2.reset_index(inplace = True, drop = True)"
   ]
  },
  {
   "cell_type": "code",
   "execution_count": 183,
   "metadata": {},
   "outputs": [],
   "source": [
    "df_final['CardVariant'] = df2['CardVariant']"
   ]
  },
  {
   "cell_type": "code",
   "execution_count": 184,
   "metadata": {},
   "outputs": [
    {
     "data": {
      "text/html": [
       "<div>\n",
       "<style scoped>\n",
       "    .dataframe tbody tr th:only-of-type {\n",
       "        vertical-align: middle;\n",
       "    }\n",
       "\n",
       "    .dataframe tbody tr th {\n",
       "        vertical-align: top;\n",
       "    }\n",
       "\n",
       "    .dataframe thead th {\n",
       "        text-align: right;\n",
       "    }\n",
       "</style>\n",
       "<table border=\"1\" class=\"dataframe\">\n",
       "  <thead>\n",
       "    <tr style=\"text-align: right;\">\n",
       "      <th></th>\n",
       "      <th>Dominant_Topic</th>\n",
       "      <th>Keywords</th>\n",
       "      <th>Text</th>\n",
       "      <th>CardVariant</th>\n",
       "    </tr>\n",
       "  </thead>\n",
       "  <tbody>\n",
       "    <tr>\n",
       "      <th>0</th>\n",
       "      <td>2</td>\n",
       "      <td>retail, dining, landmark, mobile, max, billing...</td>\n",
       "      <td>cashback flipkart myntra cashback preferred me...</td>\n",
       "      <td>Flipkart Axis Bank Credit Card</td>\n",
       "    </tr>\n",
       "    <tr>\n",
       "      <th>1</th>\n",
       "      <td>2</td>\n",
       "      <td>retail, dining, landmark, mobile, max, billing...</td>\n",
       "      <td>earn 10 axis edge points every rs 200 spends e...</td>\n",
       "      <td>AXIS Bank SELECT Credit Card</td>\n",
       "    </tr>\n",
       "    <tr>\n",
       "      <th>2</th>\n",
       "      <td>1</td>\n",
       "      <td>day, first, online, exclusive, cycle, cv, amaz...</td>\n",
       "      <td>earn cv points every rs 200 spent axis bank vi...</td>\n",
       "      <td>Axis Bank Vistara Credit Card</td>\n",
       "    </tr>\n",
       "    <tr>\n",
       "      <th>3</th>\n",
       "      <td>1</td>\n",
       "      <td>day, first, online, exclusive, cycle, cv, amaz...</td>\n",
       "      <td>earn cv points every rs 200 spent axis bank vi...</td>\n",
       "      <td>Axis Bank Vistara Signature Credit Card</td>\n",
       "    </tr>\n",
       "    <tr>\n",
       "      <th>4</th>\n",
       "      <td>1</td>\n",
       "      <td>day, first, online, exclusive, cycle, cv, amaz...</td>\n",
       "      <td>earn cv points every rs 200 spent axis bank vi...</td>\n",
       "      <td>Axis Bank Vistara Infinite Credit Card</td>\n",
       "    </tr>\n",
       "  </tbody>\n",
       "</table>\n",
       "</div>"
      ],
      "text/plain": [
       "   Dominant_Topic                                           Keywords  \\\n",
       "0               2  retail, dining, landmark, mobile, max, billing...   \n",
       "1               2  retail, dining, landmark, mobile, max, billing...   \n",
       "2               1  day, first, online, exclusive, cycle, cv, amaz...   \n",
       "3               1  day, first, online, exclusive, cycle, cv, amaz...   \n",
       "4               1  day, first, online, exclusive, cycle, cv, amaz...   \n",
       "\n",
       "                                                Text  \\\n",
       "0  cashback flipkart myntra cashback preferred me...   \n",
       "1  earn 10 axis edge points every rs 200 spends e...   \n",
       "2  earn cv points every rs 200 spent axis bank vi...   \n",
       "3  earn cv points every rs 200 spent axis bank vi...   \n",
       "4  earn cv points every rs 200 spent axis bank vi...   \n",
       "\n",
       "                               CardVariant  \n",
       "0           Flipkart Axis Bank Credit Card  \n",
       "1             AXIS Bank SELECT Credit Card  \n",
       "2            Axis Bank Vistara Credit Card  \n",
       "3  Axis Bank Vistara Signature Credit Card  \n",
       "4   Axis Bank Vistara Infinite Credit Card  "
      ]
     },
     "execution_count": 184,
     "metadata": {},
     "output_type": "execute_result"
    }
   ],
   "source": [
    "df_final.head()"
   ]
  },
  {
   "cell_type": "code",
   "execution_count": 185,
   "metadata": {},
   "outputs": [],
   "source": [
    "df_final.to_csv('topics_5.csv')"
   ]
  },
  {
   "cell_type": "code",
   "execution_count": 186,
   "metadata": {},
   "outputs": [],
   "source": [
    "df_cardsgroup = df_final.groupby('Dominant_Topic').agg(lambda x: x.tolist())"
   ]
  },
  {
   "cell_type": "code",
   "execution_count": 187,
   "metadata": {},
   "outputs": [
    {
     "data": {
      "text/html": [
       "<div>\n",
       "<style scoped>\n",
       "    .dataframe tbody tr th:only-of-type {\n",
       "        vertical-align: middle;\n",
       "    }\n",
       "\n",
       "    .dataframe tbody tr th {\n",
       "        vertical-align: top;\n",
       "    }\n",
       "\n",
       "    .dataframe thead th {\n",
       "        text-align: right;\n",
       "    }\n",
       "</style>\n",
       "<table border=\"1\" class=\"dataframe\">\n",
       "  <thead>\n",
       "    <tr style=\"text-align: right;\">\n",
       "      <th></th>\n",
       "      <th>Keywords</th>\n",
       "      <th>Text</th>\n",
       "      <th>CardVariant</th>\n",
       "    </tr>\n",
       "    <tr>\n",
       "      <th>Dominant_Topic</th>\n",
       "      <th></th>\n",
       "      <th></th>\n",
       "      <th></th>\n",
       "    </tr>\n",
       "  </thead>\n",
       "  <tbody>\n",
       "    <tr>\n",
       "      <th>0</th>\n",
       "      <td>[hotel, booking, com, value, mile, ticket, air...</td>\n",
       "      <td>[20 cashback bare fare domestic flight booking...</td>\n",
       "      <td>[Axis Bank My Wings Credit Card, Paytm HDFC Ba...</td>\n",
       "    </tr>\n",
       "    <tr>\n",
       "      <th>1</th>\n",
       "      <td>[day, first, online, exclusive, cycle, cv, ama...</td>\n",
       "      <td>[earn cv points every rs 200 spent axis bank v...</td>\n",
       "      <td>[Axis Bank Vistara Credit Card, Axis Bank Vist...</td>\n",
       "    </tr>\n",
       "    <tr>\n",
       "      <th>2</th>\n",
       "      <td>[retail, dining, landmark, mobile, max, billin...</td>\n",
       "      <td>[cashback flipkart myntra cashback preferred m...</td>\n",
       "      <td>[Flipkart Axis Bank Credit Card, AXIS Bank SEL...</td>\n",
       "    </tr>\n",
       "    <tr>\n",
       "      <th>3</th>\n",
       "      <td>[store, grocery, departmental, dine, movie, ut...</td>\n",
       "      <td>[spends, 25 cashback online box office movie t...</td>\n",
       "      <td>[Axis bank ACE Credit Card, Axis Bank MY ZONE ...</td>\n",
       "    </tr>\n",
       "    <tr>\n",
       "      <th>4</th>\n",
       "      <td>[discount, complimentary, flat, cash, golf, ca...</td>\n",
       "      <td>[complimentary ola select cult fit live bookmy...</td>\n",
       "      <td>[Diners Club Black Credit Card, Diners Club Pr...</td>\n",
       "    </tr>\n",
       "  </tbody>\n",
       "</table>\n",
       "</div>"
      ],
      "text/plain": [
       "                                                         Keywords  \\\n",
       "Dominant_Topic                                                      \n",
       "0               [hotel, booking, com, value, mile, ticket, air...   \n",
       "1               [day, first, online, exclusive, cycle, cv, ama...   \n",
       "2               [retail, dining, landmark, mobile, max, billin...   \n",
       "3               [store, grocery, departmental, dine, movie, ut...   \n",
       "4               [discount, complimentary, flat, cash, golf, ca...   \n",
       "\n",
       "                                                             Text  \\\n",
       "Dominant_Topic                                                      \n",
       "0               [20 cashback bare fare domestic flight booking...   \n",
       "1               [earn cv points every rs 200 spent axis bank v...   \n",
       "2               [cashback flipkart myntra cashback preferred m...   \n",
       "3               [spends, 25 cashback online box office movie t...   \n",
       "4               [complimentary ola select cult fit live bookmy...   \n",
       "\n",
       "                                                      CardVariant  \n",
       "Dominant_Topic                                                     \n",
       "0               [Axis Bank My Wings Credit Card, Paytm HDFC Ba...  \n",
       "1               [Axis Bank Vistara Credit Card, Axis Bank Vist...  \n",
       "2               [Flipkart Axis Bank Credit Card, AXIS Bank SEL...  \n",
       "3               [Axis bank ACE Credit Card, Axis Bank MY ZONE ...  \n",
       "4               [Diners Club Black Credit Card, Diners Club Pr...  "
      ]
     },
     "execution_count": 187,
     "metadata": {},
     "output_type": "execute_result"
    }
   ],
   "source": [
    "df_cardsgroup"
   ]
  },
  {
   "cell_type": "code",
   "execution_count": null,
   "metadata": {},
   "outputs": [],
   "source": []
  },
  {
   "cell_type": "code",
   "execution_count": 188,
   "metadata": {},
   "outputs": [
    {
     "data": {
      "text/html": [
       "<div>\n",
       "<style scoped>\n",
       "    .dataframe tbody tr th:only-of-type {\n",
       "        vertical-align: middle;\n",
       "    }\n",
       "\n",
       "    .dataframe tbody tr th {\n",
       "        vertical-align: top;\n",
       "    }\n",
       "\n",
       "    .dataframe thead th {\n",
       "        text-align: right;\n",
       "    }\n",
       "</style>\n",
       "<table border=\"1\" class=\"dataframe\">\n",
       "  <thead>\n",
       "    <tr style=\"text-align: right;\">\n",
       "      <th></th>\n",
       "      <th>Topic_Num</th>\n",
       "      <th>Topic_Perc_Contrib</th>\n",
       "      <th>Keywords</th>\n",
       "      <th>Text</th>\n",
       "    </tr>\n",
       "  </thead>\n",
       "  <tbody>\n",
       "    <tr>\n",
       "      <th>0</th>\n",
       "      <td>0</td>\n",
       "      <td>0.9634</td>\n",
       "      <td>hotel, booking, com, value, mile, ticket, air,...</td>\n",
       "      <td>20 cashback bare fare domestic flight bookings...</td>\n",
       "    </tr>\n",
       "    <tr>\n",
       "      <th>1</th>\n",
       "      <td>1</td>\n",
       "      <td>0.9472</td>\n",
       "      <td>day, first, online, exclusive, cycle, cv, amaz...</td>\n",
       "      <td>earn 10x cashpoints favourite merchants big ba...</td>\n",
       "    </tr>\n",
       "    <tr>\n",
       "      <th>2</th>\n",
       "      <td>2</td>\n",
       "      <td>0.8637</td>\n",
       "      <td>retail, dining, landmark, mobile, max, billing...</td>\n",
       "      <td>enjoy reward points every 100 rs spent online ...</td>\n",
       "    </tr>\n",
       "    <tr>\n",
       "      <th>3</th>\n",
       "      <td>3</td>\n",
       "      <td>0.9445</td>\n",
       "      <td>store, grocery, departmental, dine, movie, uti...</td>\n",
       "      <td>get 20 reward points per rs 100 spent standing...</td>\n",
       "    </tr>\n",
       "    <tr>\n",
       "      <th>4</th>\n",
       "      <td>4</td>\n",
       "      <td>0.8820</td>\n",
       "      <td>discount, complimentary, flat, cash, golf, car...</td>\n",
       "      <td>enjoy freedom paying fuel surcharge across pet...</td>\n",
       "    </tr>\n",
       "  </tbody>\n",
       "</table>\n",
       "</div>"
      ],
      "text/plain": [
       "   Topic_Num  Topic_Perc_Contrib  \\\n",
       "0          0              0.9634   \n",
       "1          1              0.9472   \n",
       "2          2              0.8637   \n",
       "3          3              0.9445   \n",
       "4          4              0.8820   \n",
       "\n",
       "                                            Keywords  \\\n",
       "0  hotel, booking, com, value, mile, ticket, air,...   \n",
       "1  day, first, online, exclusive, cycle, cv, amaz...   \n",
       "2  retail, dining, landmark, mobile, max, billing...   \n",
       "3  store, grocery, departmental, dine, movie, uti...   \n",
       "4  discount, complimentary, flat, cash, golf, car...   \n",
       "\n",
       "                                                Text  \n",
       "0  20 cashback bare fare domestic flight bookings...  \n",
       "1  earn 10x cashpoints favourite merchants big ba...  \n",
       "2  enjoy reward points every 100 rs spent online ...  \n",
       "3  get 20 reward points per rs 100 spent standing...  \n",
       "4  enjoy freedom paying fuel surcharge across pet...  "
      ]
     },
     "execution_count": 188,
     "metadata": {},
     "output_type": "execute_result"
    }
   ],
   "source": [
    "#Find the most representative document for each topic\n",
    "# Group top 5 sentences under each topic\n",
    "sent_topics_sorteddf = pd.DataFrame()\n",
    "\n",
    "sent_topics_outdf_grpd = df_topic_sents_keywords.groupby('Dominant_Topic')\n",
    "\n",
    "for i, grp in sent_topics_outdf_grpd:\n",
    "    sent_topics_sorteddf = pd.concat([sent_topics_sorteddf, \n",
    "                                             grp.sort_values(['Perc_Contribution'], ascending=[0]).head(1)], \n",
    "                                            axis=0)\n",
    "\n",
    "# Reset Index    \n",
    "sent_topics_sorteddf.reset_index(drop=True, inplace=True)\n",
    "\n",
    "# Format\n",
    "sent_topics_sorteddf.columns = ['Topic_Num', \"Topic_Perc_Contrib\", \"Keywords\", \"Text\"]\n",
    "\n",
    "# Show\n",
    "sent_topics_sorteddf.head()"
   ]
  },
  {
   "cell_type": "code",
   "execution_count": null,
   "metadata": {},
   "outputs": [],
   "source": []
  },
  {
   "cell_type": "code",
   "execution_count": null,
   "metadata": {},
   "outputs": [],
   "source": []
  },
  {
   "cell_type": "code",
   "execution_count": null,
   "metadata": {},
   "outputs": [],
   "source": []
  }
 ],
 "metadata": {
  "kernelspec": {
   "display_name": "Python 3",
   "language": "python",
   "name": "python3"
  },
  "language_info": {
   "codemirror_mode": {
    "name": "ipython",
    "version": 3
   },
   "file_extension": ".py",
   "mimetype": "text/x-python",
   "name": "python",
   "nbconvert_exporter": "python",
   "pygments_lexer": "ipython3",
   "version": "3.8.3"
  }
 },
 "nbformat": 4,
 "nbformat_minor": 4
}
